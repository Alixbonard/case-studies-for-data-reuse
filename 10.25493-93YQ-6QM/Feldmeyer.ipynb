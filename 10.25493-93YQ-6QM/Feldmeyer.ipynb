{
 "cells": [
  {
   "cell_type": "markdown",
   "id": "d977951f",
   "metadata": {},
   "source": [
    "# Study of data reuse: Electrophysiological data of cortical layer 6 neurons and synaptically coupled neuronal pairs (v1)"
   ]
  },
  {
   "cell_type": "markdown",
   "id": "40c7d21b",
   "metadata": {},
   "source": [
    "In this notebook we will look more closely at the EBRAINS dataset \"[Electrophysiological data of cortical layer 6 neurons and synaptically coupled neuronal pairs (v1)](https://search.kg.ebrains.eu/instances/5b55cc01-8eb2-48fa-967d-d0c6c2c0e67d)\", contributed by  Dirk Feldmeyer from the Institute of Neuroscience and Medicine of Jülich, Germany.\n",
    "\n",
    "As we can see from the dataset description,\n",
    "\n",
    "<i>This dataset provides a electrophysiological characterisation of cortical neurons and synaptically coupled neuronal pairs that is essential to understand their functions in brain microcircuits. Electrophysiological data were collected by using single or dual patch-clamp recordings from primary somatosensory (barrel) cortical layer 6 neurons in acute rat brain slices.</i> [[Data Descriptor](https://search.kg.ebrains.eu/instances/5b55cc01-8eb2-48fa-967d-d0c6c2c0e67d)].\n",
    "\n",
    "This dataset forms part of the results reported in:\n",
    "\n",
    "   Yang, D., Günter, R., Qi, G., Radnikow, G., & Feldmeyer, D. (2020). Muscarinic and Nicotinic Modulation of Neocortical Layer 6A Synaptic Microcircuits Is Cooperative and Cell-Specific. *Cerebral cortex* (New York, N.Y. : 1991), **30**(6), 3528–3542. https://doi.org/10.1093/cercor/bhz324\n",
    "\n",
    "In this notebook we will demonstrate how to access the data files and the metadata from this study, and how these data can be analysed and visualised, with the goal of reproducing some of the figures from the article. "
   ]
  },
  {
   "cell_type": "markdown",
   "id": "cee95330",
   "metadata": {},
   "source": [
    "### Notes: \n",
    "Unable to open most files because in pxp format. Managed to reproduce some graphs from the xlsx files but lots of data is missing so impossible to reproduce everything "
   ]
  },
  {
   "cell_type": "markdown",
   "id": "9e0d9cd7",
   "metadata": {},
   "source": [
    "impossible to open pxp files, tried with igor but unable to install it "
   ]
  },
  {
   "cell_type": "markdown",
   "id": "1fb345a1",
   "metadata": {},
   "source": [
    "## Download dataset"
   ]
  },
  {
   "cell_type": "code",
   "execution_count": 1,
   "id": "092e87d7",
   "metadata": {},
   "outputs": [],
   "source": [
    "token = \"eyJhbGciOiJSUzI1NiIsInR5cCIgOiAiSldUIiwia2lkIiA6ICJfNkZVSHFaSDNIRmVhS0pEZDhXcUx6LWFlZ3kzYXFodVNJZ1RXaTA1U2k0In0.eyJleHAiOjE2ODA4NjA5MTksImlhdCI6MTY4MDY5Mzk0MSwiYXV0aF90aW1lIjoxNjgwMjU2MTE5LCJqdGkiOiI2MzEzN2EwOS05MDJmLTRhMTYtYmQ5NC00MzMwNDg5NWI3MWUiLCJpc3MiOiJodHRwczovL2lhbS5lYnJhaW5zLmV1L2F1dGgvcmVhbG1zL2hicCIsImF1ZCI6WyJqdXB5dGVyaHViIiwidHV0b3JpYWxPaWRjQXBpIiwieHdpa2kiLCJqdXB5dGVyaHViLWpzYyIsInRlYW0iLCJwbHVzIiwiZ3JvdXAiXSwic3ViIjoiYzU0ODdjNWItYjVkNi00MWIxLWI1MDYtNzczYTA0YTc0ZDAzIiwidHlwIjoiQmVhcmVyIiwiYXpwIjoibW9kZWwtdmFsaWRhdGlvbi1zZXJ2aWNlIiwibm9uY2UiOiJFcjFNcnlOMDVHMW5URnlPZ3BtMyIsInNlc3Npb25fc3RhdGUiOiJjMjk2ZTFlNy05MzdlLTQwZmMtOTUwYi1kZDVlMTFjYzk1MzEiLCJhY3IiOiIwIiwic2NvcGUiOiJvcGVuaWQgcHJvZmlsZSBjb2xsYWIuZHJpdmUgY2xiLndpa2kud3JpdGUgcm9sZXMgZ3JvdXAgY2xiLndpa2kucmVhZCB0ZWFtIiwic2lkIjoiYzI5NmUxZTctOTM3ZS00MGZjLTk1MGItZGQ1ZTExY2M5NTMxIiwiZ2VuZGVyIjoiMCIsIm5hbWUiOiJBbmRyZXcgRGF2aXNvbiIsInByZWZlcnJlZF91c2VybmFtZSI6ImFkYXZpc29uIiwiZ2l2ZW5fbmFtZSI6IkFuZHJldyIsImZhbWlseV9uYW1lIjoiRGF2aXNvbiJ9.xusozeAAorEzFwJtj8RYtfskAGHG0nbZ6mqCrmaf-piFqCL7Y1NAOKR7V-I5QhCfaxd3k0-7PQdcWeWKvFe3oimN1XEd3c9bvUQfmDg7UxN7jlo3cJBysvdz1VdnKRCGiOb6RoI0_MsnDLxkOUUO154WXCeO6i5G9LpSVDMNHFOS2oBSbZKfnGJvsqzFuF2yadvJA0Y-N6HwfFEUsJIi1MUu7rzfZh5LLxnbf9L_DcRUbWhA50eNqyoYUQohHxpeMICQ41RTDdIj-xXhf8DPvVBsUBwScy7kuc6gRM7dUHc-1YhBhkDq2wswXMIZ32S87_bjMTNY9wNTLyNaBsaVEQ\""
   ]
  },
  {
   "cell_type": "code",
   "execution_count": 2,
   "id": "320d2b94",
   "metadata": {},
   "outputs": [],
   "source": [
    "from fairgraph import KGClient\n",
    "import fairgraph.openminds.core as omcore\n",
    "\n",
    "#client = KGClient(host=\"core.kg.ebrains.eu\", token=clb_oauth.get_token())\n",
    "client = KGClient(host=\"core.kg.ebrains.eu\", token=token)\n",
    "dataset = omcore.Dataset.by_name(\"Electrophysiological data of cortical layer 6 neurons and synaptically coupled neuronal pairs\", client)\n",
    "dataset_version = dataset.versions.resolve(client)"
   ]
  },
  {
   "cell_type": "code",
   "execution_count": 3,
   "id": "844f47d8",
   "metadata": {},
   "outputs": [],
   "source": [
    "# This is a 17 GB dataset. On the Collaboratory, this should _not_ be downloaded into the Drive.\n",
    "# Maybe only download the specific files we use in this notebook.\n",
    "# zip_file = dataset_version.download(\"downloads\", client)"
   ]
  },
  {
   "cell_type": "code",
   "execution_count": 4,
   "id": "de212ecd",
   "metadata": {},
   "outputs": [],
   "source": [
    "# trying to use \"unzip\" on Mac OS: zip_file contains filenames with \"Illegal byte sequence\", e.g.\n",
    "# Acetylcholine modulation in S1 cortex layer 6/Dose response curve (MEC)/BC 25062019 B/BC 25062019 B 1-�M.pxp\n",
    "\n",
    "# ArchiveUtility seems to work."
   ]
  },
  {
   "cell_type": "markdown",
   "id": "a589fba8",
   "metadata": {},
   "source": [
    "### Fig 5d"
   ]
  },
  {
   "cell_type": "code",
   "execution_count": 6,
   "id": "9d667707",
   "metadata": {
    "scrolled": true
   },
   "outputs": [],
   "source": [
    "# Read data from Excel spreadsheet\n",
    "\n",
    "import pandas as pd\n",
    "import numpy as np\n",
    "import matplotlib.pyplot as plt\n",
    "\n",
    "data_dir = \"downloads/hbp-d002323_NeuromodNeocortex-EPhys_pub/Acetylcholine modulation in S1 cortex layer 6/L6A paired ACh analysis\"\n",
    "ex_to_ex = pd.read_excel(\n",
    "    f\"{data_dir}/ Ach effec on L6A PSP.xls\", \n",
    "    sheet_name=\"Ex.-to-Ex.\", \n",
    "    skiprows=[1, 2], \n",
    "    nrows=25,\n",
    "    na_values=\"-\"\n",
    ")\n",
    "ex_to_inh = pd.read_excel(\n",
    "    f\"{data_dir}/ Ach effec on L6A PSP.xls\", \n",
    "    sheet_name=\"Ex.-to-FS or non-FS\", \n",
    "    skiprows=[1, 2], \n",
    "    nrows=9,\n",
    "    na_values=\"-\"\n",
    ")\n",
    "\n",
    "cc_cc = ex_to_ex.loc[ex_to_ex[\"Morphology comment\"].isin([\"CC-CC\", \"CC-(bip)CC\"])]\n",
    "cc_ct = ex_to_ex.loc[ex_to_ex[\"Morphology comment\"] == \"CC-CT\"]\n",
    "cc_inh = ex_to_inh"
   ]
  },
  {
   "cell_type": "code",
   "execution_count": 7,
   "id": "94ff63c4",
   "metadata": {},
   "outputs": [],
   "source": [
    "epsp_amplitude = {\n",
    "    \"Ctrl\": {\n",
    "        \"CC-CC\": {\n",
    "            \"mean\": cc_cc[\"Amp.  control\"].mean(),\n",
    "            \"stdev\": cc_cc[\"Amp.  control\"].std()\n",
    "        },\n",
    "        \"CC-CT\": {\n",
    "            \"mean\": cc_ct[\"Amp.  control\"].mean(),\n",
    "            \"stdev\": cc_ct[\"Amp.  control\"].std()\n",
    "        },\n",
    "        \"CC-interneuron\": {\n",
    "            \"mean\": cc_inh[\"Amp.  control\"].mean(),\n",
    "            \"stdev\": cc_inh[\"Amp.  control\"].std()\n",
    "        }\n",
    "    },\n",
    "    \"ACh\": {\n",
    "        \"CC-CC\": {\n",
    "            \"mean\": cc_cc[\"Amp. Ach30µM\"].mean(),\n",
    "            \"stdev\": cc_cc[\"Amp. Ach30µM\"].std()\n",
    "        },\n",
    "        \"CC-CT\": {\n",
    "            \"mean\": cc_ct[\"Amp. Ach30µM\"].mean(),\n",
    "            \"stdev\": cc_ct[\"Amp. Ach30µM\"].std()\n",
    "        },\n",
    "        \"CC-interneuron\": {\n",
    "            \"mean\": cc_inh[\"Amp. Ach30\"].mean(),\n",
    "            \"stdev\": cc_inh[\"Amp. Ach30\"].std()\n",
    "        }\n",
    "    }\n",
    "}"
   ]
  },
  {
   "cell_type": "code",
   "execution_count": 8,
   "id": "c92a181a",
   "metadata": {},
   "outputs": [],
   "source": [
    "paired_pulse_ratio = {\n",
    "    \"Ctrl\": {\n",
    "        \"CC-CC\": {\n",
    "            \"mean\": cc_cc[\"PPR control\"].mean(),\n",
    "            \"stdev\": cc_cc[\"PPR control\"].std()\n",
    "        },\n",
    "        \"CC-CT\": {\n",
    "            \"mean\": cc_ct[\"PPR control\"].mean(),\n",
    "            \"stdev\": cc_ct[\"PPR control\"].std()\n",
    "        },\n",
    "        \"CC-interneuron\": {\n",
    "            \"mean\": cc_inh[\"PPR control\"].mean(),\n",
    "            \"stdev\": cc_inh[\"PPR control\"].std()\n",
    "        }\n",
    "    },\n",
    "    \"ACh\": {\n",
    "        \"CC-CC\": {\n",
    "            \"mean\": cc_cc[\"PPR Ach 30\"].mean(),\n",
    "            \"stdev\": cc_cc[\"PPR Ach 30\"].std()\n",
    "        },\n",
    "        \"CC-CT\": {\n",
    "            \"mean\": cc_ct[\"PPR Ach 30\"].mean(),\n",
    "            \"stdev\": cc_ct[\"PPR Ach 30\"].std()\n",
    "        },\n",
    "        \"CC-interneuron\": {\n",
    "            \"mean\": cc_inh[\"PPR Ach 30\"].mean(),\n",
    "            \"stdev\": cc_inh[\"PPR Ach 30\"].std()\n",
    "        }\n",
    "    }\n",
    "}"
   ]
  },
  {
   "cell_type": "code",
   "execution_count": 9,
   "id": "b111e11a",
   "metadata": {},
   "outputs": [],
   "source": [
    "coefficient_of_variation = {\n",
    "    \"Ctrl\": {\n",
    "        \"CC-CC\": {\n",
    "            \"mean\": cc_cc[\"CV control\"].mean(),\n",
    "            \"stdev\": cc_cc[\"CV control\"].std()\n",
    "        },\n",
    "        \"CC-CT\": {\n",
    "            \"mean\": cc_ct[\"CV control\"].mean(),\n",
    "            \"stdev\": cc_ct[\"CV control\"].std()\n",
    "        },\n",
    "        \"CC-interneuron\": {\n",
    "            \"mean\": cc_inh[\"CV control\"].mean(),\n",
    "            \"stdev\": cc_inh[\"CV control\"].std()\n",
    "        }\n",
    "    },\n",
    "    \"ACh\": {\n",
    "        \"CC-CC\": {\n",
    "            \"mean\": cc_cc[\"CV Ach30\"].mean(),\n",
    "            \"stdev\": cc_cc[\"CV Ach30\"].std()\n",
    "        },\n",
    "        \"CC-CT\": {\n",
    "            \"mean\": cc_ct[\"CV Ach30\"].mean(),\n",
    "            \"stdev\": cc_ct[\"CV Ach30\"].std()\n",
    "        },\n",
    "        \"CC-interneuron\": {\n",
    "            \"mean\": cc_inh[\"CV Ach30\"].mean(),\n",
    "            \"stdev\": cc_inh[\"CV Ach30\"].std()\n",
    "        }\n",
    "    }\n",
    "}"
   ]
  },
  {
   "cell_type": "code",
   "execution_count": 10,
   "id": "05c831f8",
   "metadata": {},
   "outputs": [],
   "source": [
    "failure_rate = {\n",
    "    \"Ctrl\": {\n",
    "        \"CC-CC\": {\n",
    "            \"mean\": cc_cc[\"Failure  CTR\"].mean(),\n",
    "            \"stdev\": cc_cc[\"Failure  CTR\"].std()\n",
    "        },\n",
    "        \"CC-CT\": {\n",
    "            \"mean\": cc_ct[\"Failure  CTR\"].mean(),\n",
    "            \"stdev\": cc_ct[\"Failure  CTR\"].std()\n",
    "        },\n",
    "        \"CC-interneuron\": {\n",
    "            \"mean\": cc_inh[\"Failure  CTR\"].mean(),\n",
    "            \"stdev\": cc_inh[\"Failure  CTR\"].std()\n",
    "        }\n",
    "    },\n",
    "    \"ACh\": {\n",
    "        \"CC-CC\": {\n",
    "            \"mean\": cc_cc[\"Failure  Ach30\"].mean(),\n",
    "            \"stdev\": cc_cc[\"Failure  Ach30\"].std()\n",
    "        },\n",
    "        \"CC-CT\": {\n",
    "            \"mean\": cc_ct[\"Failure  Ach30\"].mean(),\n",
    "            \"stdev\": cc_ct[\"Failure  Ach30\"].std()\n",
    "        },\n",
    "        \"CC-interneuron\": {\n",
    "            \"mean\": cc_inh[\"Failure  Ach30\"].mean(),\n",
    "            \"stdev\": cc_inh[\"Failure  Ach30\"].std()\n",
    "        }\n",
    "    }\n",
    "}"
   ]
  },
  {
   "cell_type": "code",
   "execution_count": 11,
   "id": "c5df7fee",
   "metadata": {},
   "outputs": [],
   "source": [
    "def plot_statistics(data, axes, label, ylim, show_legend=False):\n",
    "    \"\"\"This function plots one of the panels as in Fig 5D\"\"\"\n",
    "    \n",
    "    y = (data[\"Ctrl\"][\"CC-CC\"][\"mean\"], data[\"ACh\"][\"CC-CC\"][\"mean\"])\n",
    "    y1 = (data[\"Ctrl\"][\"CC-CT\"][\"mean\"], data[\"ACh\"][\"CC-CT\"][\"mean\"])\n",
    "    y2 = (data[\"Ctrl\"][\"CC-interneuron\"][\"mean\"], data[\"ACh\"][\"CC-interneuron\"][\"mean\"])\n",
    "    e = (data[\"Ctrl\"][\"CC-CC\"][\"stdev\"], data[\"ACh\"][\"CC-CC\"][\"stdev\"])\n",
    "    e1 = (data[\"Ctrl\"][\"CC-CT\"][\"stdev\"], data[\"ACh\"][\"CC-CT\"][\"stdev\"])\n",
    "    e2 = (data[\"Ctrl\"][\"CC-interneuron\"][\"stdev\"], data[\"ACh\"][\"CC-interneuron\"][\"stdev\"])\n",
    "    x= [1,1.5,] \n",
    "    x1=[1.1,1.6]\n",
    "    x2=[1.2,1.7]\n",
    "\n",
    "    axes.errorbar(x, y, e, linestyle='None', marker='o',color='orange',label='CC-CC')\n",
    "    axes.errorbar(x1, y1, e1, linestyle='None', marker='o',color='brown',label='CC-CT')\n",
    "    axes.errorbar(x2, y2, e2, linestyle='None', marker='o',color='purple',label='CC-interneuron')\n",
    "    axes.set_ylim(*ylim)\n",
    "    axes.set_xticks(x1, (\"Ctrl\", \"ACh\"))\n",
    "    axes.set_ylabel(label)\n",
    "    axes.spines[['right', 'top']].set_visible(False)\n",
    "    if show_legend:\n",
    "        axes.legend()"
   ]
  },
  {
   "cell_type": "markdown",
   "id": "7d8ac511",
   "metadata": {},
   "source": [
    "![low-res](https://oup.silverchair-cdn.com/oup/backfile/Content_public/Journal/cercor/30/6/10.1093_cercor_bhz324/1/m_bhz324f5.jpeg?Expires=1683289097&Signature=1vmDgK4Xc~PlP2BUJP30JTaFgcb7Ymhf48E7K4P~IsqfWZPjTc9u9Lmi5WDqhLSGCVYX0KKLwxCTuE-XO93CSqDiCTXRGjA8~BFRpiDCVpU6M4Gvan30SfBGjxUH2J5feZe6~RZ7kmt8xa0Iw4RyGTC5EFEi57PikVDvHJFO5bo7y4-4jCo54r6zL5McJjlkU8nqQCY5ndK89cxlaDIcZQEtMEwq10pjhJhHvi5ZJQ1WvnhtOkVFSbfy7sD7dBg3-luVb15xKAxmEhgEZClAEyhfsmGMqRygP2WWlVt0kzBGJu1Vt4~BjaO1CcZlbS8MO63uQqE5SLZA6ITPwmujvQ__&Key-Pair-Id=APKAIE5G5CRDK6RD3PGA)\n",
    "\n",
    "Figure 5 from Danqing Yang, Robert Günter, Guanxiao Qi, Gabriele Radnikow, Dirk Feldmeyer (2020) Muscarinic and Nicotinic Modulation of Neocortical Layer 6A Synaptic Microcircuits Is Cooperative and Cell-Specific, Cerebral Cortex 30(6): 3528–3542, https://doi.org/10.1093/cercor/bhz324. This figure is reproduced here under the Creative Commons CC-BY-NC licence."
   ]
  },
  {
   "cell_type": "code",
   "execution_count": 12,
   "id": "8a9c1d6f",
   "metadata": {},
   "outputs": [
    {
     "data": {
      "image/png": "[encoded data removed]",
      "text/plain": [
       "<Figure size 1000x400 with 4 Axes>"
      ]
     },
     "metadata": {},
     "output_type": "display_data"
    }
   ],
   "source": [
    "fig, (ax1, ax2, ax3, ax4) = plt.subplots(1, 4, figsize=(10, 4))\n",
    "plot_statistics(epsp_amplitude, ax1, 'Amplitude (mV)', ylim=(-0.1, 2))\n",
    "plot_statistics(paired_pulse_ratio, ax2, 'Paired-Pulse Ratio', ylim=(0, 5))\n",
    "plot_statistics(coefficient_of_variation, ax3, 'Coefficient of variation', ylim=(0, 2))\n",
    "plot_statistics(failure_rate, ax4, 'Failure rate (%)', ylim=(-2, 100), show_legend=True)\n",
    "plt.subplots_adjust(wspace=0.6)\n",
    "plt.show()"
   ]
  },
  {
   "cell_type": "markdown",
   "id": "845606d5",
   "metadata": {},
   "source": [
    "## PXP files"
   ]
  },
  {
   "cell_type": "code",
   "execution_count": 13,
   "id": "27135e93",
   "metadata": {},
   "outputs": [],
   "source": [
    "from neo import get_io"
   ]
  },
  {
   "cell_type": "code",
   "execution_count": 16,
   "id": "122a93d1",
   "metadata": {},
   "outputs": [],
   "source": [
    "data_dir = \"downloads/hbp-d002323_NeuromodNeocortex-EPhys_pub/Acetylcholine modulation in S1 cortex layer 6/Dose response curve (MEC)/BC 25062019 B\""
   ]
  },
  {
   "cell_type": "code",
   "execution_count": 17,
   "id": "78b4fafc",
   "metadata": {},
   "outputs": [],
   "source": [
    "io = get_io(f\"{data_dir}/BC 25062019 B 1µM.pxp\")"
   ]
  },
  {
   "cell_type": "code",
   "execution_count": 18,
   "id": "ab547bba",
   "metadata": {},
   "outputs": [],
   "source": [
    "data = io.read()"
   ]
  },
  {
   "cell_type": "code",
   "execution_count": 19,
   "id": "8d1ad356",
   "metadata": {},
   "outputs": [],
   "source": [
    "data"
   ]
  },
  {
   "cell_type": "code",
   "execution_count": 20,
   "id": "77ae82f2",
   "metadata": {},
   "outputs": [],
   "source": [
    "segment = data[0].segments[0]"
   ]
  },
  {
   "cell_type": "code",
   "execution_count": 21,
   "id": "00c2efda",
   "metadata": {},
   "outputs": [],
   "source": [
    "segment"
   ]
  },
  {
   "cell_type": "code",
   "execution_count": 22,
   "id": "0971c95a",
   "metadata": {},
   "outputs": [],
   "source": [
    "for sig in segment.analogsignals:\n",
    "    print(f\"{sig.name} {sig.shape} {sig.units} {sig.sampling_rate}\")"
   ]
  },
  {
   "cell_type": "code",
   "execution_count": 24,
   "id": "1dc0b78b",
   "metadata": {},
   "outputs": [],
   "source": [
    "Vmem_L = segment.filter(name=\"Vmem_L\")[0]\n",
    "plt.plot(Vmem_L.times, Vmem_L)\n",
    "\n",
    "Vmem_R = segment.filter(name=\"Vmem_R\")[0]\n",
    "plt.plot(Vmem_R.times, Vmem_R)\n",
    "\n",
    "ach1 = segment.filter(name=\"ach1\")[0]\n",
    "plt.plot(ach1.times, ach1)"
   ]
  },
  {
   "cell_type": "code",
   "execution_count": null,
   "id": "e9d9265c",
   "metadata": {},
   "outputs": [],
   "source": []
  }
 ],
 "metadata": {
  "kernelspec": {
   "display_name": "Python 3 (ipykernel)",
   "language": "python",
   "name": "python3"
  },
  "language_info": {
   "codemirror_mode": {
    "name": "ipython",
    "version": 3
   },
   "file_extension": ".py",
   "mimetype": "text/x-python",
   "name": "python",
   "nbconvert_exporter": "python",
   "pygments_lexer": "ipython3",
   "version": "3.9.6"
  }
 },
 "nbformat": 4,
 "nbformat_minor": 5
}
