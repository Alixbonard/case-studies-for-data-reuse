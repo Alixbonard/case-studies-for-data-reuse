{
 "cells": [
  {
   "cell_type": "markdown",
   "id": "953e9711",
   "metadata": {},
   "source": [
    "# Studies of data reuse: Two-photon fluorescence microscopy and calcium imaging of cerebellar slices (v1)"
   ]
  },
  {
   "cell_type": "markdown",
   "id": "ea99f92f",
   "metadata": {},
   "source": [
    "In this notebook we will look more closely at the EBRAINS dataset \"[Two-photon fluorescence microscopy and calcium imaging of cerebellar slices (v1)](https://search.kg.ebrains.eu/?category=Dataset&modality[0]=electrophysiology&dataAccessibility[0]=free%20access&species[0]=Rattus%20norvegicus#4016ea85-aa19-470b-98b2-28448873ba03)\", contributed by Marialuisa Tognolina from the laboratory of Egidio D'Angelo at the University of Pavia.\n",
    "\n",
    "As we can see from the dataset description,\n",
    "\n",
    "A completely scanless two-photon microscope (SLM-2PM) was developed and used to perform two-photon calcium\n",
    "imaging experiments on acute cerebellar slices. The system allows to monitor the activity of different selected cells simultaneously while maintaining the single-cell resolution; it was used to study the spatial organization of the cerebellar granular layer activity, both in control condition and in condition of blockage of inhibition\n",
    "More information is available in the [Data Descriptor](https://search.kg.ebrains.eu/?category=Dataset&modality[0]=electrophysiology&dataAccessibility[0]=free%20access&species[0]=Rattus%20norvegicus#4016ea85-aa19-470b-98b2-2844887).\n",
    "\n",
    "This dataset forms part of the results reported in Casali, S., Tognolina, M., Gandolfi, D., Mapelli, J., & D’Angelo, E. (2020). Cellular-resolution mapping uncovers spatial adaptive filtering at the rat cerebellum input stage. Communications *Biology*, **3**(1).https://www.nature.com/articles/s42003-020-01360-y\n",
    "\n",
    "In this notebook we will demonstrate how to access the data files and the metadata from this study, and how these data can be analysed and visualised, with the goal of reproducing some of the figures from the article. "
   ]
  },
  {
   "cell_type": "markdown",
   "id": "bc0f1240",
   "metadata": {},
   "source": [
    "### Notes: \n",
    "Lots of files that I was unable to open: \n",
    "- .rsm \n",
    "- .rsh\n",
    "- .rsd\n",
    "\n",
    "Some .mat files but no idea what they corresponded to and which data they contained. "
   ]
  },
  {
   "cell_type": "code",
   "execution_count": 1,
   "id": "eb719d6f",
   "metadata": {},
   "outputs": [
    {
     "name": "stdout",
     "output_type": "stream",
     "text": [
      "Requirement already satisfied: mat73 in /home/isaurebotherel/.local/lib/python3.8/site-packages (0.59)\r\n",
      "Requirement already satisfied: h5py in /home/isaurebotherel/.local/lib/python3.8/site-packages (from mat73) (3.7.0)\r\n",
      "Requirement already satisfied: numpy in /home/isaurebotherel/.local/lib/python3.8/site-packages (from mat73) (1.23.4)\r\n"
     ]
    },
    {
     "name": "stderr",
     "output_type": "stream",
     "text": [
      "/home/isaurebotherel/.local/lib/python3.8/site-packages/pandas/core/computation/expressions.py:20: UserWarning: Pandas requires version '2.7.3' or newer of 'numexpr' (version '2.7.1' currently installed).\n",
      "  from pandas.core.computation.check import NUMEXPR_INSTALLED\n"
     ]
    }
   ],
   "source": [
    "#prepare notebook\n",
    "!pip install mat73\n",
    "import mat73\n",
    "import statistics\n",
    "from statistics import mean\n",
    "import matplotlib.pyplot as plt\n",
    "import numpy as np\n",
    "from matplotlib import style\n",
    "import pandas as pd\n",
    "import scipy.stats\n",
    "from scipy.stats import sem\n",
    "from matplotlib.pyplot import figure"
   ]
  },
  {
   "cell_type": "code",
   "execution_count": 8,
   "id": "95fcde0c",
   "metadata": {},
   "outputs": [],
   "source": [
    "data= scipy.io.loadmat('hbp-00811_SLM-2PM-hbp-00811_SLM-2PM_Analyzed-traces/hbp-00811_SLM-2PM_Analyzed-traces_18feb14Pre.mat')"
   ]
  },
  {
   "cell_type": "code",
   "execution_count": 9,
   "id": "4e05e33f",
   "metadata": {
    "scrolled": true
   },
   "outputs": [
    {
     "data": {
      "text/plain": [
       "{'__header__': b'MATLAB 5.0 MAT-file, Platform: PCWIN64, Created on: Mon Oct 16 13:15:13 2017',\n",
       " '__version__': '1.0',\n",
       " '__globals__': [],\n",
       " 'Y_Pre': array([[[ 7.68000000e+02, -2.60416667e-01, -5.20833333e-01, ...,\n",
       "           8.68055556e-02,  4.34027778e-02,  4.34027778e-02],\n",
       "         [ 7.72000000e+02, -3.88601036e-01, -2.59067358e-01, ...,\n",
       "          -2.59067358e-01,  2.15889465e-01,  1.29533679e-01],\n",
       "         [ 7.88000000e+02,  5.92216582e-01,  2.11505922e-01, ...,\n",
       "           6.76818951e-01,  5.07614213e-01,  8.46023689e-01],\n",
       "         ...,\n",
       "         [ 1.22700000e+03, -5.43330617e-02,  2.71665308e-01, ...,\n",
       "           2.44498778e-01,  3.53164901e-01,  2.17332247e-01],\n",
       "         [ 1.22300000e+03, -0.00000000e+00,  4.90596893e-01, ...,\n",
       "           1.63532298e-01,  2.99809212e-01,  1.90787681e-01],\n",
       "         [ 1.22600000e+03,  4.35019032e-01,  7.34094617e-01, ...,\n",
       "           4.89396411e-01,  3.80641653e-01,  2.44698206e-01]],\n",
       " \n",
       "        [[ 7.86000000e+02, -0.00000000e+00,  7.20949958e-01, ...,\n",
       "           5.51314673e-01,  8.48176421e-01,  3.81679389e-01],\n",
       "         [ 7.85000000e+02, -4.67091295e-01, -0.00000000e+00, ...,\n",
       "          -2.54777070e-01, -8.49256900e-02, -8.49256900e-02],\n",
       "         [ 7.78000000e+02, -5.56983719e-01, -6.42673522e-01, ...,\n",
       "          -6.42673522e-01, -4.28449015e-02, -6.42673522e-01],\n",
       "         ...,\n",
       "         [ 1.21700000e+03, -2.46507806e-01,  2.19118050e-01, ...,\n",
       "           5.47795125e-02, -1.91728294e-01,  2.46507806e-01],\n",
       "         [ 1.21500000e+03, -5.48696845e-02,  3.29218107e-01, ...,\n",
       "           3.84087791e-01,  7.13305898e-01,  4.93827160e-01],\n",
       "         [ 1.22400000e+03,  2.72331155e-01,  2.72331155e-01, ...,\n",
       "           1.36165577e-01,  5.17429194e-01,  3.81263617e-01]],\n",
       " \n",
       "        [[ 7.85000000e+02, -1.27388535e-01,  1.69851380e-01, ...,\n",
       "           3.82165605e-01, -2.12314225e-01,  2.97239915e-01],\n",
       "         [ 7.71000000e+02, -1.25378297e+00, -1.03761349e+00, ...,\n",
       "          -2.16169477e-01, -1.42671855e+00, -5.62040640e-01],\n",
       "         [ 7.85000000e+02, -4.67091295e-01, -6.79405520e-01, ...,\n",
       "          -8.49256900e-02,  8.49256900e-02, -3.39702760e-01],\n",
       "         ...,\n",
       "         [ 1.22400000e+03,  1.63398693e-01, -5.44662309e-02, ...,\n",
       "          -5.44662309e-02, -2.72331155e-02, -1.36165577e-01],\n",
       "         [ 1.22400000e+03,  2.99564270e-01,  8.16993464e-02, ...,\n",
       "           3.26797386e-01, -1.36165577e-01, -0.00000000e+00],\n",
       "         [ 1.22700000e+03, -5.43330617e-02, -8.14995925e-02, ...,\n",
       "           8.14995925e-02,  1.08666123e-01,  1.35832654e-01]],\n",
       " \n",
       "        ...,\n",
       " \n",
       "        [[ 7.91000000e+02,  5.05689001e-01,  3.79266751e-01, ...,\n",
       "           1.68563000e-01, -0.00000000e+00, -0.00000000e+00],\n",
       "         [ 7.80000000e+02, -1.28205128e-01,  7.26495726e-01, ...,\n",
       "          -1.70940171e-01, -1.70940171e-01, -0.00000000e+00],\n",
       "         [ 7.92000000e+02,  8.41750842e-02, -2.10437710e-01, ...,\n",
       "          -8.41750842e-02, -3.78787879e-01, -8.41750842e-02],\n",
       "         ...,\n",
       "         [ 1.20700000e+03,  4.14250207e-01,  1.93316763e-01, ...,\n",
       "          -0.00000000e+00, -2.76166805e-01,  2.76166805e-01],\n",
       "         [ 1.18500000e+03,  3.37552743e-01, -8.43881857e-02, ...,\n",
       "          -8.43881857e-02,  2.81293952e-01,  8.43881857e-02],\n",
       "         [ 1.18400000e+03,  2.25225225e-01, -8.44594595e-02, ...,\n",
       "           2.25225225e-01, -2.81531532e-02,  7.88288288e-01]],\n",
       " \n",
       "        [[ 8.04000000e+02,  3.31674959e-01, -1.65837479e-01, ...,\n",
       "          -8.29187396e-02, -1.65837479e-01, -6.63349917e-01],\n",
       "         [ 7.97000000e+02, -2.92764534e-01, -1.67294019e-01, ...,\n",
       "           2.92764534e-01, -2.50941029e-01, -1.25470514e-01],\n",
       "         [ 8.00000000e+02,  4.58333333e-01,  4.16666667e-02, ...,\n",
       "           2.50000000e-01,  3.75000000e-01, -0.00000000e+00],\n",
       "         ...,\n",
       "         [ 1.19200000e+03,  2.79642058e-02, -3.91498881e-01, ...,\n",
       "           3.35570470e-01,  1.11856823e-01, -8.38926174e-02],\n",
       "         [ 1.19000000e+03, -3.36134454e-01, -3.64145658e-01, ...,\n",
       "          -2.80112045e-02,  5.60224090e-02, -5.60224090e-02],\n",
       "         [ 1.18300000e+03,  8.45308538e-02, -1.69061708e-01, ...,\n",
       "          -8.45308538e-02,  3.09946464e-01, -2.81769513e-01]],\n",
       " \n",
       "        [[ 8.04000000e+02,  4.97512438e-01,  1.24378109e-01, ...,\n",
       "          -0.00000000e+00, -0.00000000e+00,  2.07296849e-01],\n",
       "         [ 7.96000000e+02, -2.09380235e-01, -7.11892797e-01, ...,\n",
       "           2.09380235e-01,  3.35008375e-01,  1.67504188e-01],\n",
       "         [ 7.87000000e+02,  5.08259212e-01,  2.54129606e-01, ...,\n",
       "           2.11774672e-01,  4.65904278e-01,  5.92969081e-01],\n",
       "         ...,\n",
       "         [ 1.18000000e+03,  2.54237288e-01,  3.38983051e-01, ...,\n",
       "           5.64971751e-02, -2.82485876e-02,  8.47457627e-02],\n",
       "         [ 1.18200000e+03,  7.61421320e-01,  5.64015792e-01, ...,\n",
       "           6.76818951e-01,  6.20417372e-01,  6.48618161e-01],\n",
       "         [ 1.20100000e+03, -2.77546489e-02, -1.11018596e-01, ...,\n",
       "          -8.32639467e-02, -5.55092978e-02,  1.38773245e-01]]])}"
      ]
     },
     "execution_count": 9,
     "metadata": {},
     "output_type": "execute_result"
    }
   ],
   "source": [
    "data"
   ]
  },
  {
   "cell_type": "code",
   "execution_count": 10,
   "id": "1886e498",
   "metadata": {
    "scrolled": true
   },
   "outputs": [
    {
     "data": {
      "text/plain": [
       "dict_keys(['__header__', '__version__', '__globals__', 'Y_Pre'])"
      ]
     },
     "execution_count": 10,
     "metadata": {},
     "output_type": "execute_result"
    }
   ],
   "source": [
    "data.keys()"
   ]
  },
  {
   "cell_type": "code",
   "execution_count": 11,
   "id": "b975e57c",
   "metadata": {},
   "outputs": [],
   "source": [
    "data= scipy.io.loadmat('hbp-00811_SLM-2PM-hbp-00811_SLM-2PM_Analyzed-traces/hbp-00811_SLM-2PM_SLM-2PM_Analyzed-trace_18feb14Post.mat')"
   ]
  },
  {
   "cell_type": "code",
   "execution_count": 12,
   "id": "f5d45813",
   "metadata": {},
   "outputs": [
    {
     "data": {
      "text/plain": [
       "dict_keys(['__header__', '__version__', '__globals__', 'Y_Post'])"
      ]
     },
     "execution_count": 12,
     "metadata": {},
     "output_type": "execute_result"
    }
   ],
   "source": [
    "data.keys()"
   ]
  },
  {
   "cell_type": "code",
   "execution_count": 13,
   "id": "f88c0ecc",
   "metadata": {
    "scrolled": true
   },
   "outputs": [
    {
     "data": {
      "text/plain": [
       "{'__header__': b'MATLAB 5.0 MAT-file, Platform: PCWIN64, Created on: Mon Oct 16 13:14:58 2017',\n",
       " '__version__': '1.0',\n",
       " '__globals__': [],\n",
       " 'Y_Post': array([[[ 7.72000000e+02,  4.31778929e-02, -1.07944732e+00, ...,\n",
       "          -0.00000000e+00, -2.15889465e-01,  4.31778929e-02],\n",
       "         [ 7.80000000e+02,  6.41025641e-01,  2.56410256e-01, ...,\n",
       "           4.27350427e-01,  2.99145299e-01,  5.98290598e-01],\n",
       "         [ 7.85000000e+02, -1.69851380e-01,  5.09554140e-01, ...,\n",
       "          -0.00000000e+00, -2.54777070e-01,  1.69851380e-01],\n",
       "         ...,\n",
       "         [ 1.21700000e+03,  2.19118050e-01,  1.36948781e-01, ...,\n",
       "           2.46507806e-01,  1.09559025e-01, -1.36948781e-01],\n",
       "         [ 1.22200000e+03,  1.63666121e-01, -5.45553737e-02, ...,\n",
       "          -1.36388434e-01, -3.81887616e-01,  1.36388434e-01],\n",
       "         [ 1.22800000e+03,  1.35722041e-01,  2.71444083e-02, ...,\n",
       "           5.42888165e-02, -1.08577633e-01,  1.62866450e-01]],\n",
       " \n",
       "        [[ 7.93000000e+02,  1.26103405e-01,  5.04413619e-01, ...,\n",
       "          -2.94241278e-01,  2.94241278e-01, -4.20344683e-02],\n",
       "         [ 7.87000000e+02,  7.20033884e-01,  1.22829310e+00, ...,\n",
       "           6.77678950e-01,  9.74163490e-01,  6.77678950e-01],\n",
       "         [ 7.78000000e+02,  2.14224507e-01,  3.42759212e-01, ...,\n",
       "          -7.28363325e-01, -0.00000000e+00,  4.71293916e-01],\n",
       "         ...,\n",
       "         [ 1.22200000e+03,  1.09110747e-01,  5.45553737e-02, ...,\n",
       "           3.54609929e-01,  1.36388434e-01, -2.45499182e-01],\n",
       "         [ 1.22000000e+03,  3.00546448e-01, -1.36612022e-01, ...,\n",
       "          -0.00000000e+00,  1.36612022e-01, -2.73224044e-02],\n",
       "         [ 1.23200000e+03,  1.08225108e-01,  1.35281385e-01, ...,\n",
       "          -2.97619048e-01, -4.32900433e-01, -1.08225108e-01]],\n",
       " \n",
       "        [[ 7.84000000e+02,  1.70068027e-01,  2.97619048e-01, ...,\n",
       "           2.55102041e-01,  6.80272109e-01,  4.25170068e-02],\n",
       "         [ 7.80000000e+02,  8.54700855e-02, -3.84615385e-01, ...,\n",
       "          -8.54700855e-02,  3.84615385e-01,  3.84615385e-01],\n",
       "         [ 7.94000000e+02, -2.09907641e-01, -3.35852225e-01, ...,\n",
       "          -1.04953820e+00, -2.51889169e-01, -8.39630563e-01],\n",
       "         ...,\n",
       "         [ 1.23100000e+03,  1.89547793e-01,  2.97860818e-01, ...,\n",
       "          -5.41565123e-02,  3.24939074e-01, -2.70782562e-02],\n",
       "         [ 1.22900000e+03,  2.16978573e-01, -2.44100895e-01, ...,\n",
       "          -8.13669650e-02,  2.44100895e-01, -1.08489287e-01],\n",
       "         [ 1.22900000e+03, -7.05180363e-01, -3.52590182e-01, ...,\n",
       "          -5.69568755e-01, -6.78058042e-01, -2.16978573e-01]],\n",
       " \n",
       "        ...,\n",
       " \n",
       "        [[ 8.00000000e+02,  8.33333333e-02,  2.08333333e-01, ...,\n",
       "          -1.25000000e-01,  1.25000000e-01, -1.66666667e-01],\n",
       "         [ 7.89000000e+02,  2.11237854e-01, -2.11237854e-01, ...,\n",
       "          -3.80228137e-01,  4.22475708e-02,  8.44951415e-02],\n",
       "         [ 7.88000000e+02,  1.18443316e+00,  8.03722504e-01, ...,\n",
       "           6.34517766e-01,  8.03722504e-01,  2.53807107e-01],\n",
       "         ...,\n",
       "         [ 1.20000000e+03,  1.38888889e-01,  5.27777778e-01, ...,\n",
       "           3.33333333e-01,  6.11111111e-01,  1.94444444e-01],\n",
       "         [ 1.18200000e+03,  2.82007896e-01, -1.97405527e-01, ...,\n",
       "          -1.41003948e-01, -1.12803158e-01, -3.66610265e-01],\n",
       "         [ 1.18800000e+03, -3.92817059e-01, -6.17283951e-01, ...,\n",
       "          -1.12233446e-01, -6.17283951e-01, -4.48933782e-01]],\n",
       " \n",
       "        [[ 8.01000000e+02, -2.91302538e-01, -2.08073242e-01, ...,\n",
       "          -6.24219725e-01, -0.00000000e+00, -4.99375780e-01],\n",
       "         [ 8.04000000e+02, -6.63349917e-01, -4.56053068e-01, ...,\n",
       "          -7.46268657e-01, -6.21890547e-01, -1.07794362e+00],\n",
       "         [ 8.07000000e+02,  1.23915737e-01,  4.13052458e-01, ...,\n",
       "           1.23915737e-01,  7.43494424e-01,  7.43494424e-01],\n",
       "         ...,\n",
       "         [ 1.19100000e+03, -1.11950742e-01, -3.07864540e-01, ...,\n",
       "           1.39938427e-01, -1.39938427e-01, -2.79876854e-01],\n",
       "         [ 1.19500000e+03,  1.95258020e-01,  3.62622036e-01, ...,\n",
       "           5.29986053e-01,  3.90516039e-01,  3.62622036e-01],\n",
       "         [ 1.19400000e+03, -1.11669458e-01, -5.58347292e-02, ...,\n",
       "          -8.37520938e-02,  8.37520938e-02, -0.00000000e+00]],\n",
       " \n",
       "        [[ 7.99000000e+02,  5.42344597e-01,  4.58906967e-01, ...,\n",
       "           2.08594076e-01,  2.08594076e-01,  5.84063413e-01],\n",
       "         [ 8.02000000e+02,  4.15627598e-01,  2.49376559e-01, ...,\n",
       "           4.15627598e-01,  1.24688279e-01,  7.89692436e-01],\n",
       "         [ 7.98000000e+02,  6.26566416e-01,  8.35421888e-02, ...,\n",
       "           2.92397661e-01,  4.17710944e-02, -0.00000000e+00],\n",
       "         ...,\n",
       "         [ 1.19300000e+03, -1.11763062e-01, -1.95585359e-01, ...,\n",
       "          -8.38222967e-02, -2.51466890e-01, -5.58815312e-02],\n",
       "         [ 1.18400000e+03, -4.50450450e-01, -4.22297297e-01, ...,\n",
       "          -3.09684685e-01, -1.68918919e-01, -3.09684685e-01],\n",
       "         [ 1.20400000e+03, -5.53709856e-02, -5.26024363e-01, ...,\n",
       "          -5.53709856e-02, -2.76854928e-02, -1.93798450e-01]]])}"
      ]
     },
     "execution_count": 13,
     "metadata": {},
     "output_type": "execute_result"
    }
   ],
   "source": [
    "data"
   ]
  },
  {
   "cell_type": "code",
   "execution_count": 5,
   "id": "525f7714",
   "metadata": {},
   "outputs": [
    {
     "name": "stdout",
     "output_type": "stream",
     "text": [
      "Requirement already satisfied: rsm in /home/isaurebotherel/.local/lib/python3.8/site-packages (1.2.9)\r\n"
     ]
    }
   ],
   "source": [
    "!pip install rsm\n",
    "import rsm"
   ]
  },
  {
   "cell_type": "code",
   "execution_count": 11,
   "id": "de51b752",
   "metadata": {},
   "outputs": [
    {
     "name": "stdout",
     "output_type": "stream",
     "text": [
      "Help on package rsm:\n",
      "\n",
      "NAME\n",
      "    rsm\n",
      "\n",
      "PACKAGE CONTENTS\n",
      "    api (package)\n",
      "    handlers (package)\n",
      "    mocking (package)\n",
      "    override (package)\n",
      "    utils (package)\n",
      "\n",
      "FILE\n",
      "    /home/isaurebotherel/.local/lib/python3.8/site-packages/rsm/__init__.py\n",
      "\n",
      "\n"
     ]
    }
   ],
   "source": [
    "help (rsm )"
   ]
  },
  {
   "cell_type": "code",
   "execution_count": 8,
   "id": "67a1c39d",
   "metadata": {},
   "outputs": [
    {
     "ename": "AttributeError",
     "evalue": "module 'rsm' has no attribute 'read'",
     "output_type": "error",
     "traceback": [
      "\u001b[0;31m---------------------------------------------------------------------------\u001b[0m",
      "\u001b[0;31mAttributeError\u001b[0m                            Traceback (most recent call last)",
      "Cell \u001b[0;32mIn [8], line 1\u001b[0m\n\u001b[0;32m----> 1\u001b[0m data\u001b[38;5;241m=\u001b[39m\u001b[43mrsm\u001b[49m\u001b[38;5;241;43m.\u001b[39;49m\u001b[43mread\u001b[49m(\u001b[38;5;124m'\u001b[39m\u001b[38;5;124mhbp-00811_SLM-2PM/hbp-00811_SLM-2PM_Acquired-traces/SLM-2PM_Subject01_14-02-14/Subject01_140220140214-027.rsm\u001b[39m\u001b[38;5;124m'\u001b[39m)\n",
      "\u001b[0;31mAttributeError\u001b[0m: module 'rsm' has no attribute 'read'"
     ]
    }
   ],
   "source": [
    "data=rsm.read('hbp-00811_SLM-2PM/hbp-00811_SLM-2PM_Acquired-traces/SLM-2PM_Subject01_14-02-14/Subject01_140220140214-027.rsm')"
   ]
  },
  {
   "cell_type": "code",
   "execution_count": null,
   "id": "51fff0df",
   "metadata": {},
   "outputs": [],
   "source": []
  }
 ],
 "metadata": {
  "kernelspec": {
   "display_name": "Python 3 (ipykernel)",
   "language": "python",
   "name": "python3"
  },
  "language_info": {
   "codemirror_mode": {
    "name": "ipython",
    "version": 3
   },
   "file_extension": ".py",
   "mimetype": "text/x-python",
   "name": "python",
   "nbconvert_exporter": "python",
   "pygments_lexer": "ipython3",
   "version": "3.8.10"
  }
 },
 "nbformat": 4,
 "nbformat_minor": 5
}
