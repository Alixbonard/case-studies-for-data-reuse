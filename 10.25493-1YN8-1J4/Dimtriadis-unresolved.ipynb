{
 "cells": [
  {
   "cell_type": "markdown",
   "id": "9d1ab66d",
   "metadata": {},
   "source": [
    "# Studies of data reuse:Functional limits of CMOS electrophysiology probes. Are we there yet? (v1)"
   ]
  },
  {
   "cell_type": "markdown",
   "id": "fbc5194c",
   "metadata": {},
   "source": [
    "In this notebook we will look more closely at the EBRAINS dataset \"[Functional limits of CMOS electrophysiology probes. Are we there yet? (v1)](https://search.kg.ebrains.eu/?category=Dataset&q=george%20dimitriadis&modality[0]=electrophysiology#73bb52d7-d217-4da1-98f8-d81e10063499)\", contributed by George Dimitriadis from the Sainsbury Wellcome Centre for Neural Circuits and Behaviour, University College London, United Kingdom.\n",
    "\n",
    "As we can see from the dataset description, \n",
    "The datasets in this project were developed to try and answer whether even higher densities and electrode counts in these probes can further enhance our understanding of complex naturalistic behaviour and whether such advancements might affect issues like implant related behavioural restrictions.\n",
    "\n",
    "This dataset forms part of the results reported inSelf, Dimitriadis, G., Neto, J. P., Aarts, A., Alexandru, A., Ballini, M., Battaglia, F., Calcaterra, L., Chen, S., David, F., Fiáth, R., Frazão, J., Geerts, J. P., Gentet, L. J., Van Helleputte, N., Holzhammer, T., van Hoof, C., Horváth, D., Lopes, G., Lopez, C. M., … Kampff, A. R. (2018). Why not record from every electrode with a CMOS scanning probe? *bioRxiv* **275818** https://www.biorxiv.org/content/10.1101/275818v8\n",
    "\n",
    "In this notebook we will demonstrate how to access the data files and the metadata from this study, and how these data can be analysed and visualised, with the goal of reproducing some of the figures from the article.\n"
   ]
  },
  {
   "cell_type": "markdown",
   "id": "013f8416",
   "metadata": {},
   "source": [
    "### Notes: \n",
    "I never had enough space on my computer to download the whole dataset and to explore the material. However, the data seems very well organised and easy to access but unfortunately it is very large (more than 120 gb)"
   ]
  },
  {
   "cell_type": "code",
   "execution_count": null,
   "id": "539813cf",
   "metadata": {},
   "outputs": [],
   "source": []
  }
 ],
 "metadata": {
  "kernelspec": {
   "display_name": "Python 3 (ipykernel)",
   "language": "python",
   "name": "python3"
  },
  "language_info": {
   "codemirror_mode": {
    "name": "ipython",
    "version": 3
   },
   "file_extension": ".py",
   "mimetype": "text/x-python",
   "name": "python",
   "nbconvert_exporter": "python",
   "pygments_lexer": "ipython3",
   "version": "3.8.10"
  }
 },
 "nbformat": 4,
 "nbformat_minor": 5
}
