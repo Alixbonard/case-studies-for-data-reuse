{
 "cells": [
  {
   "cell_type": "markdown",
   "id": "4f6f5881",
   "metadata": {},
   "source": [
    "# Studies of data reuse: Hippocampal place cell recordings in a Four-Room navigation tas"
   ]
  },
  {
   "cell_type": "markdown",
   "id": "a9af5184",
   "metadata": {},
   "source": [
    "In this notebook we will look more closely at the EBRAINS dataset \"[Hippocampal place cell recordings in a Four-Room navigation tas](https://search.kg.ebrains.eu/?category=Dataset&q=Hippocampal%20place%20cell%20recordings%20in%20a%20Four-Room%20navigation%20tas#6ba32f59-e7a0-4cc3-a465-86e1fdf2ffc9)\", contributed by Hugo Spiers from the Department of Experimental Psychology, Institute of Behavioural Neuroscience, University College London, UK.\n",
    "\n",
    "As we can see from the dataset description,\n",
    "This dataset contains electrophysiological data (multi-unit activity and current-source density) from the different layers of V1 of two macaque monkey during a figure-ground segregation task.\n",
    "More information is available in the [Data Descriptor](https://search.kg.ebrains.eu/?category=Dataset&q=Hippocampal%20place%20cell%20recordings%20in%20a%20Four-Room%20navigation%20tas#6ba32f59-e7a0-4cc3-a465-86e1fdf2ffc9).\n",
    "\n",
    "This dataset forms part of the results reported inSelf, M. W., van Kerkoerle, T., Supèr, H., & Roelfsema, P. R. (2013). Distinct Roles of the Cortical Layers of Area V1 in Figure-Ground Segregation. *Current Biology*, **23**(21), 2121–2129. https://doi.org/10.1016/j.cub.2013.09.013.\n",
    "\n",
    "In this notebook we will demonstrate how to access the data files and the metadata from this study, and how these data can be analysed and visualised, with the goal of reproducing some of the figures from the article. "
   ]
  },
  {
   "cell_type": "markdown",
   "id": "987a5a73",
   "metadata": {},
   "source": [
    "### Notes: \n",
    "Can't open files used in publication unable to open on matlab either\n"
   ]
  },
  {
   "cell_type": "code",
   "execution_count": 1,
   "id": "1658446c",
   "metadata": {},
   "outputs": [
    {
     "name": "stdout",
     "output_type": "stream",
     "text": [
      "Requirement already satisfied: scipy in /home/isaurebotherel/.local/lib/python3.8/site-packages (1.9.3)\n",
      "Requirement already satisfied: numpy<1.26.0,>=1.18.5 in /home/isaurebotherel/.local/lib/python3.8/site-packages (from scipy) (1.23.4)\n",
      "Requirement already satisfied: h5py in /home/isaurebotherel/.local/lib/python3.8/site-packages (3.7.0)\n",
      "Requirement already satisfied: numpy>=1.14.5 in /home/isaurebotherel/.local/lib/python3.8/site-packages (from h5py) (1.23.4)\n",
      "Requirement already satisfied: pymatreader in /home/isaurebotherel/.local/lib/python3.8/site-packages (0.0.30)\n",
      "Requirement already satisfied: future in /usr/lib/python3/dist-packages (from pymatreader) (0.18.2)\n",
      "Requirement already satisfied: numpy in /home/isaurebotherel/.local/lib/python3.8/site-packages (from pymatreader) (1.23.4)\n",
      "Requirement already satisfied: xmltodict in /home/isaurebotherel/.local/lib/python3.8/site-packages (from pymatreader) (0.13.0)\n",
      "Requirement already satisfied: scipy!=1.7.0 in /home/isaurebotherel/.local/lib/python3.8/site-packages (from pymatreader) (1.9.3)\n",
      "Requirement already satisfied: h5py in /home/isaurebotherel/.local/lib/python3.8/site-packages (from pymatreader) (3.7.0)\n",
      "Requirement already satisfied: pandas in /home/isaurebotherel/.local/lib/python3.8/site-packages (1.5.1)\n",
      "Requirement already satisfied: numpy>=1.20.3; python_version < \"3.10\" in /home/isaurebotherel/.local/lib/python3.8/site-packages (from pandas) (1.23.4)\n",
      "Requirement already satisfied: pytz>=2020.1 in /home/isaurebotherel/.local/lib/python3.8/site-packages (from pandas) (2022.6)\n",
      "Requirement already satisfied: python-dateutil>=2.8.1 in /home/isaurebotherel/.local/lib/python3.8/site-packages (from pandas) (2.8.2)\n",
      "Requirement already satisfied: six>=1.5 in /usr/lib/python3/dist-packages (from python-dateutil>=2.8.1->pandas) (1.14.0)\n",
      "Requirement already satisfied: seaborn in /home/isaurebotherel/.local/lib/python3.8/site-packages (0.12.0)\n",
      "Requirement already satisfied: pandas>=0.25 in /home/isaurebotherel/.local/lib/python3.8/site-packages (from seaborn) (1.5.1)\n",
      "Requirement already satisfied: numpy>=1.17 in /home/isaurebotherel/.local/lib/python3.8/site-packages (from seaborn) (1.23.4)\n",
      "Requirement already satisfied: matplotlib>=3.1 in /home/isaurebotherel/.local/lib/python3.8/site-packages (from seaborn) (3.6.2)\n",
      "Requirement already satisfied: python-dateutil>=2.8.1 in /home/isaurebotherel/.local/lib/python3.8/site-packages (from pandas>=0.25->seaborn) (2.8.2)\n",
      "Requirement already satisfied: pytz>=2020.1 in /home/isaurebotherel/.local/lib/python3.8/site-packages (from pandas>=0.25->seaborn) (2022.6)\n",
      "Requirement already satisfied: fonttools>=4.22.0 in /home/isaurebotherel/.local/lib/python3.8/site-packages (from matplotlib>=3.1->seaborn) (4.38.0)\n",
      "Requirement already satisfied: pillow>=6.2.0 in /usr/lib/python3/dist-packages (from matplotlib>=3.1->seaborn) (7.0.0)\n",
      "Requirement already satisfied: pyparsing>=2.2.1 in /home/isaurebotherel/.local/lib/python3.8/site-packages (from matplotlib>=3.1->seaborn) (2.4.7)\n",
      "Requirement already satisfied: cycler>=0.10 in /usr/lib/python3/dist-packages (from matplotlib>=3.1->seaborn) (0.10.0)\n",
      "Requirement already satisfied: contourpy>=1.0.1 in /home/isaurebotherel/.local/lib/python3.8/site-packages (from matplotlib>=3.1->seaborn) (1.0.6)\n",
      "Requirement already satisfied: kiwisolver>=1.0.1 in /usr/lib/python3/dist-packages (from matplotlib>=3.1->seaborn) (1.0.1)\n",
      "Requirement already satisfied: packaging>=20.0 in /home/isaurebotherel/.local/lib/python3.8/site-packages (from matplotlib>=3.1->seaborn) (23.0)\n",
      "Requirement already satisfied: six>=1.5 in /usr/lib/python3/dist-packages (from python-dateutil>=2.8.1->pandas>=0.25->seaborn) (1.14.0)\n",
      "Requirement already satisfied: openpyxl in /home/isaurebotherel/.local/lib/python3.8/site-packages (3.0.10)\n",
      "Requirement already satisfied: et-xmlfile in /usr/lib/python3/dist-packages (from openpyxl) (1.0.1)\n"
     ]
    }
   ],
   "source": [
    "# prepare notebook\n",
    "!pip install scipy\n",
    "import scipy.io\n",
    "import numpy as np\n",
    "!pip install h5py\n",
    "import h5py\n",
    "!pip install pymatreader\n",
    "from pymatreader import read_mat\n",
    "!pip install pandas\n",
    "import pandas as pd\n",
    "from scipy.io import loadmat\n",
    "import mat73\n",
    "!pip install seaborn\n",
    "import pandas as pd\n",
    "import matplotlib.pyplot as plt\n",
    "import numpy as np\n",
    "import seaborn as sns\n",
    "!pip install openpyxl\n",
    "import openpyxl\n",
    "import numpy as np\n",
    "from statistics import mean\n",
    "from matplotlib import style\n",
    "import scipy.stats as stats\n",
    "from openpyxl import Workbook\n",
    "from openpyxl.chart import (\n",
    "    ScatterChart,\n",
    "    Reference,\n",
    "    Series,\n",
    ")\n",
    "import matplotlib.mlab as mlab\n",
    "import scipy"
   ]
  },
  {
   "cell_type": "raw",
   "id": "51613d4b",
   "metadata": {},
   "source": [
    "% The data are split between two large Matlab tables, the behaviour data (trial time, door push success\n",
    "% speed, position, event flags etc) are stored in bdata_big.mat\n",
    "% Each recording spans 5 rows of this table, each row corresponding to a part/session as described above\n",
    "% Initial columns contain basic information about the session such as which door was closed, the rat, date etc\n",
    "% Later columns get progressively more and more specific\n",
    "%\n",
    "% Spike data (spike times, waveforms, cluster quality, firing rate maps, correlations etc) are stored in sdata_big.mat\n",
    "% Each cluster spans 5 rows of this table, each row corresponding to a part/session as described above\n",
    "% Initial columns contain basic information about the session such as which door was closed, the rat, date etc\n",
    "% Later columns get progressively more and more specific, the last columns contain the different firing rate maps\n",
    "% and correlation matrices that form the basis of the main results\n",
    "\n",
    "% A description of some nomenclature (imposed by experimenters not me)\n",
    "% The top left box when the maze is viewed from above is box 'A' the other boxes are lettered successively in clockwise order\n",
    "% Similarly, the doors are named using two letters where the letters represent the doors on either side\n",
    "% e.g. door AB is between box A and box B\n",
    "% However, the doors also have directions, so door AB is actually the door when pushed from box A\n",
    "% Door BA would be the same door when pushed from box B"
   ]
  },
  {
   "cell_type": "markdown",
   "id": "5166f868",
   "metadata": {},
   "source": [
    "### Fig 1d\n",
    "(D and E) Normalized number of pushes on a door side for control doors (in O1–3, doors that will be or were locked), locked doors (same doors but in C1 and C2), or open doors, averaged over sessions."
   ]
  },
  {
   "cell_type": "code",
   "execution_count": 18,
   "id": "f885fc7a",
   "metadata": {},
   "outputs": [
    {
     "ename": "NotImplementedError",
     "evalue": "Please use HDF reader for matlab v7.3 files",
     "output_type": "error",
     "traceback": [
      "\u001b[0;31m---------------------------------------------------------------------------\u001b[0m",
      "\u001b[0;31mNotImplementedError\u001b[0m                       Traceback (most recent call last)",
      "Cell \u001b[0;32mIn [18], line 1\u001b[0m\n\u001b[0;32m----> 1\u001b[0m f\u001b[38;5;241m=\u001b[39m\u001b[43mscipy\u001b[49m\u001b[38;5;241;43m.\u001b[39;49m\u001b[43mio\u001b[49m\u001b[38;5;241;43m.\u001b[39;49m\u001b[43mloadmat\u001b[49m\u001b[43m(\u001b[49m\u001b[38;5;124;43m'\u001b[39;49m\u001b[38;5;124;43mhbp-d000035_FourRoomPC_pub/Data/Four_Room_bdata_big.mat\u001b[39;49m\u001b[38;5;124;43m'\u001b[39;49m\u001b[43m)\u001b[49m\n",
      "File \u001b[0;32m~/.local/lib/python3.8/site-packages/scipy/io/matlab/_mio.py:225\u001b[0m, in \u001b[0;36mloadmat\u001b[0;34m(file_name, mdict, appendmat, **kwargs)\u001b[0m\n\u001b[1;32m    223\u001b[0m variable_names \u001b[38;5;241m=\u001b[39m kwargs\u001b[38;5;241m.\u001b[39mpop(\u001b[38;5;124m'\u001b[39m\u001b[38;5;124mvariable_names\u001b[39m\u001b[38;5;124m'\u001b[39m, \u001b[38;5;28;01mNone\u001b[39;00m)\n\u001b[1;32m    224\u001b[0m \u001b[38;5;28;01mwith\u001b[39;00m _open_file_context(file_name, appendmat) \u001b[38;5;28;01mas\u001b[39;00m f:\n\u001b[0;32m--> 225\u001b[0m     MR, _ \u001b[38;5;241m=\u001b[39m \u001b[43mmat_reader_factory\u001b[49m\u001b[43m(\u001b[49m\u001b[43mf\u001b[49m\u001b[43m,\u001b[49m\u001b[43m \u001b[49m\u001b[38;5;241;43m*\u001b[39;49m\u001b[38;5;241;43m*\u001b[39;49m\u001b[43mkwargs\u001b[49m\u001b[43m)\u001b[49m\n\u001b[1;32m    226\u001b[0m     matfile_dict \u001b[38;5;241m=\u001b[39m MR\u001b[38;5;241m.\u001b[39mget_variables(variable_names)\n\u001b[1;32m    228\u001b[0m \u001b[38;5;28;01mif\u001b[39;00m mdict \u001b[38;5;129;01mis\u001b[39;00m \u001b[38;5;129;01mnot\u001b[39;00m \u001b[38;5;28;01mNone\u001b[39;00m:\n",
      "File \u001b[0;32m~/.local/lib/python3.8/site-packages/scipy/io/matlab/_mio.py:80\u001b[0m, in \u001b[0;36mmat_reader_factory\u001b[0;34m(file_name, appendmat, **kwargs)\u001b[0m\n\u001b[1;32m     78\u001b[0m     \u001b[38;5;28;01mreturn\u001b[39;00m MatFile5Reader(byte_stream, \u001b[38;5;241m*\u001b[39m\u001b[38;5;241m*\u001b[39mkwargs), file_opened\n\u001b[1;32m     79\u001b[0m \u001b[38;5;28;01melif\u001b[39;00m mjv \u001b[38;5;241m==\u001b[39m \u001b[38;5;241m2\u001b[39m:\n\u001b[0;32m---> 80\u001b[0m     \u001b[38;5;28;01mraise\u001b[39;00m \u001b[38;5;167;01mNotImplementedError\u001b[39;00m(\u001b[38;5;124m'\u001b[39m\u001b[38;5;124mPlease use HDF reader for matlab v7.3 files\u001b[39m\u001b[38;5;124m'\u001b[39m)\n\u001b[1;32m     81\u001b[0m \u001b[38;5;28;01melse\u001b[39;00m:\n\u001b[1;32m     82\u001b[0m     \u001b[38;5;28;01mraise\u001b[39;00m \u001b[38;5;167;01mTypeError\u001b[39;00m(\u001b[38;5;124m'\u001b[39m\u001b[38;5;124mDid not recognize version \u001b[39m\u001b[38;5;132;01m%s\u001b[39;00m\u001b[38;5;124m'\u001b[39m \u001b[38;5;241m%\u001b[39m mjv)\n",
      "\u001b[0;31mNotImplementedError\u001b[0m: Please use HDF reader for matlab v7.3 files"
     ]
    }
   ],
   "source": [
    "f=scipy.io.loadmat('hbp-d000035_FourRoomPC_pub/Data/Four_Room_bdata_big.mat')"
   ]
  },
  {
   "cell_type": "code",
   "execution_count": 19,
   "id": "475db9af",
   "metadata": {},
   "outputs": [
    {
     "name": "stderr",
     "output_type": "stream",
     "text": [
      "ERROR:root:ERROR: MATLAB type not supported: table, (uint32)\n"
     ]
    },
    {
     "name": "stdout",
     "output_type": "stream",
     "text": [
      "{'bdata_big': None}\n"
     ]
    }
   ],
   "source": [
    "data = mat73.loadmat('hbp-d000035_FourRoomPC_pub/Data/Four_Room_bdata_big.mat')\n",
    "print(data)"
   ]
  },
  {
   "cell_type": "code",
   "execution_count": 16,
   "id": "c4a548dd",
   "metadata": {},
   "outputs": [],
   "source": [
    "import h5py\n",
    "import numpy as np\n",
    "filepath = 'hbp-d000035_FourRoomPC_pub/Data/Four_Room_bdata_big.mat'\n",
    "arrays = {}\n",
    "f = h5py.File(filepath)\n",
    "for k, v in f.items():\n",
    "    arrays[k] = np.array(v)"
   ]
  },
  {
   "cell_type": "code",
   "execution_count": 17,
   "id": "679a8d06",
   "metadata": {},
   "outputs": [
    {
     "data": {
      "text/plain": [
       "<HDF5 file \"Four_Room_bdata_big.mat\" (mode r)>"
      ]
     },
     "execution_count": 17,
     "metadata": {},
     "output_type": "execute_result"
    }
   ],
   "source": [
    "f"
   ]
  },
  {
   "cell_type": "code",
   "execution_count": 3,
   "id": "7caf4905",
   "metadata": {},
   "outputs": [
    {
     "data": {
      "text/plain": [
       "['#refs#', '#subsystem#', 'bdata_big']"
      ]
     },
     "execution_count": 3,
     "metadata": {},
     "output_type": "execute_result"
    }
   ],
   "source": [
    "import h5py\n",
    "    \n",
    "Path='hbp-d000035_FourRoomPC_pub/Data/Four_Room_bdata_big.mat' #path file path to be read\n",
    "f = h5py.File(Path, mode='r') #read mat file\n",
    "list(f.keys())\n"
   ]
  },
  {
   "cell_type": "code",
   "execution_count": 6,
   "id": "fe87a3c3",
   "metadata": {},
   "outputs": [
    {
     "data": {
      "text/plain": [
       "<HDF5 dataset \"bdata_big\": shape (1, 6), type \"<u4\">"
      ]
     },
     "execution_count": 6,
     "metadata": {},
     "output_type": "execute_result"
    }
   ],
   "source": [
    "f['bdata_big']"
   ]
  },
  {
   "cell_type": "code",
   "execution_count": 14,
   "id": "0b852ff0",
   "metadata": {},
   "outputs": [
    {
     "name": "stdout",
     "output_type": "stream",
     "text": [
      "<KeysViewHDF5 ['#refs#', '#subsystem#', 'bdata_big']>\n"
     ]
    }
   ],
   "source": [
    "import h5py\n",
    "with h5py.File('hbp-d000035_FourRoomPC_pub/Data/Four_Room_bdata_big.mat', 'r') as f:\n",
    "    print(f.keys())\n",
    "   \n"
   ]
  },
  {
   "cell_type": "code",
   "execution_count": 13,
   "id": "718666be",
   "metadata": {},
   "outputs": [
    {
     "ename": "ValueError",
     "evalue": "Invalid location identifier (invalid location identifier)",
     "output_type": "error",
     "traceback": [
      "\u001b[0;31m---------------------------------------------------------------------------\u001b[0m",
      "\u001b[0;31mValueError\u001b[0m                                Traceback (most recent call last)",
      "Cell \u001b[0;32mIn [13], line 1\u001b[0m\n\u001b[0;32m----> 1\u001b[0m \u001b[43mf\u001b[49m\u001b[43m[\u001b[49m\u001b[38;5;124;43m'\u001b[39;49m\u001b[38;5;124;43mbdata_big\u001b[39;49m\u001b[38;5;124;43m'\u001b[39;49m\u001b[43m]\u001b[49m\n",
      "File \u001b[0;32mh5py/_objects.pyx:54\u001b[0m, in \u001b[0;36mh5py._objects.with_phil.wrapper\u001b[0;34m()\u001b[0m\n",
      "File \u001b[0;32mh5py/_objects.pyx:55\u001b[0m, in \u001b[0;36mh5py._objects.with_phil.wrapper\u001b[0;34m()\u001b[0m\n",
      "File \u001b[0;32m~/.local/lib/python3.8/site-packages/h5py/_hl/group.py:328\u001b[0m, in \u001b[0;36mGroup.__getitem__\u001b[0;34m(self, name)\u001b[0m\n\u001b[1;32m    326\u001b[0m         \u001b[38;5;28;01mraise\u001b[39;00m \u001b[38;5;167;01mValueError\u001b[39;00m(\u001b[38;5;124m\"\u001b[39m\u001b[38;5;124mInvalid HDF5 object reference\u001b[39m\u001b[38;5;124m\"\u001b[39m)\n\u001b[1;32m    327\u001b[0m \u001b[38;5;28;01melif\u001b[39;00m \u001b[38;5;28misinstance\u001b[39m(name, (\u001b[38;5;28mbytes\u001b[39m, \u001b[38;5;28mstr\u001b[39m)):\n\u001b[0;32m--> 328\u001b[0m     oid \u001b[38;5;241m=\u001b[39m \u001b[43mh5o\u001b[49m\u001b[38;5;241;43m.\u001b[39;49m\u001b[43mopen\u001b[49m\u001b[43m(\u001b[49m\u001b[38;5;28;43mself\u001b[39;49m\u001b[38;5;241;43m.\u001b[39;49m\u001b[43mid\u001b[49m\u001b[43m,\u001b[49m\u001b[43m \u001b[49m\u001b[38;5;28;43mself\u001b[39;49m\u001b[38;5;241;43m.\u001b[39;49m\u001b[43m_e\u001b[49m\u001b[43m(\u001b[49m\u001b[43mname\u001b[49m\u001b[43m)\u001b[49m\u001b[43m,\u001b[49m\u001b[43m \u001b[49m\u001b[43mlapl\u001b[49m\u001b[38;5;241;43m=\u001b[39;49m\u001b[38;5;28;43mself\u001b[39;49m\u001b[38;5;241;43m.\u001b[39;49m\u001b[43m_lapl\u001b[49m\u001b[43m)\u001b[49m\n\u001b[1;32m    329\u001b[0m \u001b[38;5;28;01melse\u001b[39;00m:\n\u001b[1;32m    330\u001b[0m     \u001b[38;5;28;01mraise\u001b[39;00m \u001b[38;5;167;01mTypeError\u001b[39;00m(\u001b[38;5;124m\"\u001b[39m\u001b[38;5;124mAccessing a group is done with bytes or str, \u001b[39m\u001b[38;5;124m\"\u001b[39m\n\u001b[1;32m    331\u001b[0m                     \u001b[38;5;124m\"\u001b[39m\u001b[38;5;124m not \u001b[39m\u001b[38;5;132;01m{}\u001b[39;00m\u001b[38;5;124m\"\u001b[39m\u001b[38;5;241m.\u001b[39mformat(\u001b[38;5;28mtype\u001b[39m(name)))\n",
      "File \u001b[0;32mh5py/_objects.pyx:54\u001b[0m, in \u001b[0;36mh5py._objects.with_phil.wrapper\u001b[0;34m()\u001b[0m\n",
      "File \u001b[0;32mh5py/_objects.pyx:55\u001b[0m, in \u001b[0;36mh5py._objects.with_phil.wrapper\u001b[0;34m()\u001b[0m\n",
      "File \u001b[0;32mh5py/h5o.pyx:190\u001b[0m, in \u001b[0;36mh5py.h5o.open\u001b[0;34m()\u001b[0m\n",
      "\u001b[0;31mValueError\u001b[0m: Invalid location identifier (invalid location identifier)"
     ]
    }
   ],
   "source": [
    "f['bdata_big']"
   ]
  },
  {
   "cell_type": "code",
   "execution_count": 4,
   "id": "1d36c07b",
   "metadata": {},
   "outputs": [
    {
     "ename": "NameError",
     "evalue": "name 'matloc' is not defined",
     "output_type": "error",
     "traceback": [
      "\u001b[0;31m---------------------------------------------------------------------------\u001b[0m",
      "\u001b[0;31mNameError\u001b[0m                                 Traceback (most recent call last)",
      "Cell \u001b[0;32mIn [4], line 5\u001b[0m\n\u001b[1;32m      2\u001b[0m \u001b[38;5;28;01mimport\u001b[39;00m \u001b[38;5;21;01mnumpy\u001b[39;00m \u001b[38;5;28;01mas\u001b[39;00m \u001b[38;5;21;01mnp\u001b[39;00m\n\u001b[1;32m      3\u001b[0m \u001b[38;5;28;01mimport\u001b[39;00m \u001b[38;5;21;01mpandas\u001b[39;00m \u001b[38;5;28;01mas\u001b[39;00m \u001b[38;5;21;01mpd\u001b[39;00m\n\u001b[0;32m----> 5\u001b[0m f \u001b[38;5;241m=\u001b[39m h5py\u001b[38;5;241m.\u001b[39mFile(\u001b[43mmatloc\u001b[49m, \u001b[38;5;124m'\u001b[39m\u001b[38;5;124mr\u001b[39m\u001b[38;5;124m'\u001b[39m) \u001b[38;5;66;03m# matloc = path to your .mat\u001b[39;00m\n\u001b[1;32m      6\u001b[0m \u001b[38;5;28mprint\u001b[39m(\u001b[38;5;28mlist\u001b[39m(f))\n\u001b[1;32m      8\u001b[0m re \u001b[38;5;241m=\u001b[39m f\u001b[38;5;241m.\u001b[39mget(\u001b[38;5;124m'\u001b[39m\u001b[38;5;124mLUT_Refl/Full\u001b[39m\u001b[38;5;124m'\u001b[39m)\n",
      "\u001b[0;31mNameError\u001b[0m: name 'matloc' is not defined"
     ]
    }
   ],
   "source": [
    "import h5py\n",
    "import numpy as np\n",
    "import pandas as pd\n",
    "\n",
    "f = h5py.File(matloc, 'r') # matloc = path to your .mat\n",
    "print(list(f))\n",
    "\n",
    "re = f.get('LUT_Refl/Full')\n",
    "w = f.get('LUT_Refl/WL')\n",
    "\n",
    "data = pd.DataFrame(np.array(re)).transpose()  # For converting to a NumPy array\n",
    "wl = pd.DataFrame(np.array(w))\n"
   ]
  },
  {
   "cell_type": "code",
   "execution_count": 6,
   "id": "6b382cdf",
   "metadata": {},
   "outputs": [
    {
     "name": "stdout",
     "output_type": "stream",
     "text": [
      "Requirement already satisfied: mat73 in /home/isaurebotherel/.local/lib/python3.8/site-packages (0.59)\r\n",
      "Requirement already satisfied: numpy in /home/isaurebotherel/.local/lib/python3.8/site-packages (from mat73) (1.23.4)\r\n",
      "Requirement already satisfied: h5py in /home/isaurebotherel/.local/lib/python3.8/site-packages (from mat73) (3.7.0)\r\n"
     ]
    },
    {
     "name": "stderr",
     "output_type": "stream",
     "text": [
      "ERROR:root:ERROR: MATLAB type not supported: table, (uint32)\n"
     ]
    },
    {
     "name": "stdout",
     "output_type": "stream",
     "text": [
      "{'bdata_big': None}\n"
     ]
    }
   ],
   "source": [
    "!pip install mat73\n",
    "import mat73\n",
    "data = mat73.loadmat('hbp-d000035_FourRoomPC_pub/Data/Four_Room_bdata_big.mat')\n",
    "print(data)"
   ]
  },
  {
   "cell_type": "code",
   "execution_count": 3,
   "id": "0af1cead",
   "metadata": {},
   "outputs": [
    {
     "name": "stdout",
     "output_type": "stream",
     "text": [
      "{'all_cname': [[['r35.06012020.1.1'], ['r35.06012020.1.2'], ['r35.06012020.4.1'], ['r35.06012020.5.1'], ['r35.06012020.8.1'], ['r35.06012020.8.2'], ['r35.06012020.8.3'], ['r35.07012020.1.1'], ['r35.07012020.1.2'], ['r35.07012020.1.4'], ['r35.07012020.1.5'], ['r35.07012020.1.6'], ['r35.07012020.2.1'], ['r35.07012020.3.1'], ['r35.07012020.4.1'], ['r35.07012020.4.2'], ['r35.07012020.5.1'], ['r35.07012020.5.2'], ['r35.07012020.6.1'], ['r35.07012020.7.1'], ['r35.07012020.8.1'], ['r35.07012020.8.2'], ['r35.10012020.1.1'], ['r35.10012020.1.2'], ['r35.10012020.1.3'], ['r35.10012020.1.4'], ['r35.10012020.1.5'], ['r35.10012020.2.1'], ['r35.10012020.2.2'], ['r35.10012020.2.3'], ['r35.10012020.4.1'], ['r35.10012020.4.2'], ['r35.10012020.6.2'], ['r35.10012020.8.1'], ['r35.10012020.8.2'], ['r35.10012020.8.4'], ['r35.10012020.8.5'], ['r35.17012020.1.1'], ['r35.17012020.1.2'], ['r35.17012020.1.3'], ['r35.17012020.1.4'], ['r35.17012020.2.1'], ['r35.17012020.2.2'], ['r35.17012020.2.5'], ['r35.17012020.2.6'], ['r35.17012020.4.1'], ['r35.17012020.4.2'], ['r35.17012020.4.3'], ['r35.17012020.6.1'], ['r35.17012020.8.1'], ['r35.17012020.8.2'], ['r35.20012020.1.1'], ['r35.20012020.1.2'], ['r35.20012020.1.3'], ['r35.20012020.2.1'], ['r35.20012020.4.1'], ['r35.20012020.4.2'], ['r35.20012020.8.1'], ['r35.20012020.8.3'], ['r35.20012020.8.4'], ['r35.31122019.1.1'], ['r35.31122019.1.3'], ['r35.31122019.11.1'], ['r35.31122019.13.1'], ['r35.31122019.2.1'], ['r35.31122019.3.1'], ['r35.31122019.4.2'], ['r35.31122019.6.1'], ['r35.31122019.6.2'], ['r35.31122019.8.1'], ['r35.31122019.8.3'], ['r35.31122019.8.5'], ['r35.31122019.8.7'], ['r37.04022020.2.1'], ['r37.04022020.2.2'], ['r37.04022020.3.1'], ['r37.04022020.3.2'], ['r37.04022020.3.3'], ['r37.04022020.3.4'], ['r37.04022020.5.1'], ['r37.04022020.6.1'], ['r37.04022020.6.2'], ['r37.04022020.6.3'], ['r37.04022020.7.1'], ['r37.04022020.8.1'], ['r37.04022020.8.2'], ['r37.04022020.8.3'], ['r37.04022020.8.5'], ['r37.06022020.1.1'], ['r37.06022020.2.1'], ['r37.06022020.3.1'], ['r37.06022020.3.2'], ['r37.06022020.5.1'], ['r37.06022020.6.1'], ['r37.06022020.6.2'], ['r37.06022020.7.1'], ['r37.06022020.8.1'], ['r37.06022020.8.2'], ['r37.06022020.8.3'], ['r37.16022020.5.1'], ['r37.16022020.5.2'], ['r37.16022020.7.1'], ['r38.02022020.1.1'], ['r38.02022020.1.2'], ['r38.02022020.2.1'], ['r38.02022020.2.2'], ['r38.02022020.2.3'], ['r38.02022020.2.4'], ['r38.02022020.2.5'], ['r38.10022020.2.1'], ['r38.10022020.2.2'], ['r38.10022020.2.3'], ['r38.10022020.2.4'], ['r38.12022020.2.1'], ['r38.12022020.2.2'], ['r38.12022020.2.3'], ['r38.12022020.7.1'], ['r38.27012020.1.1'], ['r38.27012020.1.2'], ['r38.27012020.1.3'], ['r38.27012020.1.4'], ['r38.27012020.1.5'], ['r38.27012020.1.6'], ['r38.27012020.1.7'], ['r38.27012020.2.2'], ['r38.27012020.2.3'], ['r38.27012020.2.4'], ['r38.27012020.2.5'], ['r38.27012020.2.6'], ['r38.27012020.5.1'], ['r38.27012020.7.1'], ['r38.27012020.7.2'], ['r38.27012020.7.3'], ['r38.27012020.7.4'], ['r39.03032020.11.1'], ['r39.03032020.12.1'], ['r39.03032020.15.2'], ['r39.03032020.16.2'], ['r39.03032020.16.3'], ['r39.03032020.16.4'], ['r39.03032020.16.5'], ['r39.03032020.16.6'], ['r39.03032020.16.7'], ['r39.04032020.10.1'], ['r39.04032020.11.1'], ['r39.04032020.12.1'], ['r39.04032020.12.2'], ['r39.04032020.12.3'], ['r39.04032020.14.1'], ['r39.04032020.15.1'], ['r39.04032020.16.3'], ['r39.04032020.16.4'], ['r39.04032020.16.5'], ['r39.04032020.16.6'], ['r39.04032020.16.7'], ['r39.04032020.3.1'], ['r39.04032020.5.1'], ['r39.04032020.5.2'], ['r39.04032020.6.1'], ['r39.04032020.8.1'], ['r39.29022020.1.1'], ['r39.29022020.10.1'], ['r39.29022020.11.1'], ['r39.29022020.12.1'], ['r39.29022020.12.2'], ['r39.29022020.16.1'], ['r39.29022020.16.2'], ['r39.29022020.16.3'], ['r39.29022020.16.5'], ['r39.29022020.2.1'], ['r39.29022020.2.3'], ['r39.29022020.3.2'], ['r39.29022020.4.1'], ['r39.29022020.4.2'], ['r39.29022020.5.1'], ['r39.29022020.6.1'], ['r39.29022020.7.1'], ['r39.29022020.8.1'], ['r39.29022020.8.2'], ['r39.29022020.8.3'], ['r39.29022020.8.4'], ['r44.17032020.10.1'], ['r44.17032020.10.2'], ['r44.17032020.10.3'], ['r44.17032020.10.4'], ['r44.17032020.10.5'], ['r44.17032020.10.6'], ['r44.17032020.10.7'], ['r44.17032020.2.1'], ['r44.17032020.3.1'], ['r44.17032020.4.1'], ['r44.17032020.5.1'], ['r44.17032020.5.2'], ['r44.17032020.7.1'], ['r44.17032020.7.2'], ['r44.17032020.7.3'], ['r44.17032020.7.4'], ['r44.17032020.7.5'], ['r44.17032020.7.6'], ['r44.19032020.10.1'], ['r44.19032020.2.1'], ['r44.19032020.2.2'], ['r44.19032020.2.3'], ['r44.19032020.2.4'], ['r44.19032020.2.5'], ['r44.19032020.2.6'], ['r44.19032020.2.7'], ['r44.19032020.3.1'], ['r44.19032020.3.2'], ['r44.19032020.3.3'], ['r44.19032020.4.1'], ['r44.19032020.4.2'], ['r44.19032020.4.3'], ['r44.19032020.4.4'], ['r44.19032020.4.5'], ['r44.19032020.4.6'], ['r44.19032020.5.1'], ['r44.19032020.7.1'], ['r44.19032020.7.2'], ['r44.19032020.7.3'], ['r44.19032020.7.4'], ['r44.19032020.7.5'], ['r44.19032020.7.6'], ['r44.19032020.7.7'], ['r44.19032020.7.8'], ['r44.19032020.7.9'], ['r44.19032020.8.1'], ['r44.19032020.8.2'], ['r44.19032020.8.3'], ['r44.20032020.10.1'], ['r44.20032020.10.2'], ['r44.20032020.10.3'], ['r44.20032020.10.4'], ['r44.20032020.10.5'], ['r44.20032020.14.1'], ['r44.20032020.14.2'], ['r44.20032020.14.3'], ['r44.20032020.2.1'], ['r44.20032020.2.2'], ['r44.20032020.2.3'], ['r44.20032020.2.4'], ['r44.20032020.2.7'], ['r44.20032020.3.1'], ['r44.20032020.3.2'], ['r44.20032020.4.1'], ['r44.20032020.4.2'], ['r44.20032020.4.4'], ['r44.20032020.5.3'], ['r44.20032020.7.1'], ['r44.20032020.7.11'], ['r44.20032020.7.12'], ['r44.20032020.7.13'], ['r44.20032020.7.2'], ['r44.20032020.7.3'], ['r44.20032020.7.4'], ['r44.20032020.7.5'], ['r44.20032020.7.8'], ['r44.20032020.7.9'], ['r44.20032020.8.1'], ['r44.20032020.8.2'], ['r44.20032020.8.4']], [['r35.09012020.1.1'], ['r35.09012020.1.2'], ['r35.09012020.1.3'], ['r35.09012020.1.4'], ['r35.09012020.1.5'], ['r35.09012020.2.2'], ['r35.09012020.4.1'], ['r35.09012020.4.2'], ['r35.09012020.6.1'], ['r35.09012020.6.2'], ['r35.09012020.6.3'], ['r35.09012020.7.1'], ['r35.09012020.8.3'], ['r35.16012020.1.1'], ['r35.16012020.1.2'], ['r35.16012020.1.3'], ['r35.16012020.1.4'], ['r35.16012020.1.5'], ['r35.16012020.2.1'], ['r35.16012020.2.2'], ['r35.16012020.2.3'], ['r35.16012020.2.4'], ['r35.16012020.2.5'], ['r35.16012020.2.6'], ['r35.16012020.2.7'], ['r35.16012020.4.1'], ['r35.16012020.4.2'], ['r35.16012020.4.3'], ['r35.16012020.4.4'], ['r35.16012020.4.5'], ['r35.16012020.8.1'], ['r35.16012020.8.2'], ['r35.16012020.8.5'], ['r35.21012020.1.1'], ['r35.21012020.1.2'], ['r35.21012020.2.2'], ['r35.21012020.4.1'], ['r35.21012020.4.2'], ['r35.21012020.6.1'], ['r35.21012020.8.1'], ['r35.21012020.8.2'], ['r35.21012020.8.3'], ['r35.21012020.8.4'], ['r37.05022020.2.1'], ['r37.05022020.2.2'], ['r37.05022020.2.3'], ['r37.05022020.3.1'], ['r37.05022020.3.2'], ['r37.05022020.3.4'], ['r37.05022020.5.2'], ['r37.05022020.6.1'], ['r37.05022020.6.2'], ['r37.05022020.7.1'], ['r37.05022020.7.2'], ['r37.05022020.8.1'], ['r37.05022020.8.2'], ['r37.05022020.8.3'], ['r37.07022020.1.1'], ['r37.07022020.2.1'], ['r37.07022020.3.1'], ['r37.07022020.5.1'], ['r37.07022020.6.1'], ['r37.07022020.6.2'], ['r37.07022020.6.3'], ['r37.07022020.6.4'], ['r37.07022020.7.1'], ['r37.07022020.7.2'], ['r37.07022020.8.1'], ['r37.07022020.8.3'], ['r38.03022020.1.3'], ['r38.03022020.1.4'], ['r38.03022020.2.1'], ['r38.03022020.2.2'], ['r38.03022020.2.3'], ['r38.03022020.6.3'], ['r38.03022020.8.1'], ['r38.11022020.1.1'], ['r38.11022020.1.2'], ['r38.11022020.2.1'], ['r38.11022020.2.2'], ['r38.11022020.2.4'], ['r39.02032020.1.1'], ['r39.02032020.1.2'], ['r39.02032020.1.3'], ['r39.02032020.1.4'], ['r39.02032020.1.6'], ['r39.02032020.1.7'], ['r39.02032020.1.8'], ['r39.02032020.11.1'], ['r39.02032020.16.2'], ['r39.02032020.16.3'], ['r39.02032020.16.4'], ['r39.02032020.2.2'], ['r39.02032020.2.4'], ['r39.02032020.3.1'], ['r39.02032020.3.3'], ['r39.02032020.3.4'], ['r39.02032020.3.5'], ['r39.02032020.3.6'], ['r39.02032020.4.1'], ['r39.02032020.6.4'], ['r39.02032020.6.5'], ['r39.02032020.7.1'], ['r39.02032020.8.3'], ['r39.08032020.1.1'], ['r39.08032020.1.2'], ['r39.08032020.10.2'], ['r39.08032020.11.1'], ['r39.08032020.12.1'], ['r39.08032020.14.1'], ['r39.08032020.16.3'], ['r39.08032020.3.1'], ['r39.08032020.5.1'], ['r39.08032020.5.2'], ['r39.08032020.6.1'], ['r39.08032020.7.1'], ['r44.14032020.10.2'], ['r44.14032020.10.3'], ['r44.14032020.3.1'], ['r44.14032020.4.1'], ['r44.14032020.4.2'], ['r44.14032020.7.1'], ['r44.14032020.7.2'], ['r44.14032020.7.3'], ['r44.14032020.7.4'], ['r44.14032020.7.5'], ['r44.14032020.7.6'], ['r44.18032020.10.10'], ['r44.18032020.10.14'], ['r44.18032020.10.16'], ['r44.18032020.10.17'], ['r44.18032020.10.2'], ['r44.18032020.10.3'], ['r44.18032020.10.4'], ['r44.18032020.10.5'], ['r44.18032020.10.6'], ['r44.18032020.10.8'], ['r44.18032020.10.9'], ['r44.18032020.14.1'], ['r44.18032020.2.1'], ['r44.18032020.3.1'], ['r44.18032020.3.3'], ['r44.18032020.4.1'], ['r44.18032020.4.2'], ['r44.18032020.4.3'], ['r44.18032020.4.4'], ['r44.18032020.5.6'], ['r44.18032020.7.1'], ['r44.18032020.7.2'], ['r44.18032020.7.3'], ['r44.18032020.7.4'], ['r44.18032020.7.5'], ['r44.18032020.8.1'], ['r44.18032020.8.2'], ['r44.18032020.8.4'], ['r44.18032020.8.5'], ['r44.18032020.9.1'], ['r44.18032020.9.3'], ['r44.18032020.9.4'], ['r44.18032020.9.5'], ['r44.18032020.9.6']]], 'all_obs': [array([[1.        , 1.        , 0.90899794, 0.75529472, 0.79420027,\n",
      "        0.74677959],\n",
      "       [1.        , 1.        , 0.86768054, 0.86556742, 0.8654422 ,\n",
      "        0.76803069],\n",
      "       [1.        , 1.        , 0.6443117 , 0.5979488 , 0.63234786,\n",
      "        0.60605083],\n",
      "       ...,\n",
      "       [5.        , 3.        , 0.87331647, 0.87316269, 0.90003278,\n",
      "        0.8677828 ],\n",
      "       [5.        , 3.        , 0.75836006, 0.27487958, 0.3702269 ,\n",
      "        0.66088304],\n",
      "       [5.        , 3.        , 0.80451048, 0.64230597, 0.71691416,\n",
      "        0.79338717]]), array([[ 1.        ,  1.        ,  0.90376819,  0.90115132,  0.86627089,\n",
      "         0.75052601],\n",
      "       [ 1.        ,  1.        ,  0.69462246,  0.86925035,  0.70779941,\n",
      "         0.54579416],\n",
      "       [ 1.        ,  1.        ,  0.79942514,  0.79452815,  0.78877084,\n",
      "         0.708781  ],\n",
      "       [ 1.        ,  1.        ,  0.75247115,  0.83776822,  0.89420298,\n",
      "         0.85640978],\n",
      "       [ 1.        ,  1.        ,  0.68103869,  0.91429936,  0.92594635,\n",
      "         0.73737631],\n",
      "       [ 1.        ,  1.        ,  0.93513976,  0.92999547,  0.94669899,\n",
      "         0.79465349],\n",
      "       [ 1.        ,  1.        ,  0.72921361,  0.77060492,  0.70894366,\n",
      "         0.73138298],\n",
      "       [ 1.        ,  1.        ,  0.9364314 ,  0.92483795,  0.95488235,\n",
      "         0.84481565],\n",
      "       [ 1.        ,  1.        ,  0.65890559,  0.87416536,  0.83478879,\n",
      "         0.79408055],\n",
      "       [ 1.        ,  1.        ,  0.57255554,  0.63496416,  0.73007709,\n",
      "         0.53162602],\n",
      "       [ 1.        ,  1.        ,  0.61947984,  0.67050086,  0.82310631,\n",
      "         0.77871708],\n",
      "       [ 1.        ,  1.        ,  0.73131093,  0.99000195,  0.83789245,\n",
      "         0.90393318],\n",
      "       [ 1.        ,  1.        ,  0.65561699,  0.52520066,  0.89373313,\n",
      "         0.75385473],\n",
      "       [ 1.        ,  2.        ,  0.87198147,  0.88171601,  0.72796819,\n",
      "         0.83355014],\n",
      "       [ 1.        ,  2.        ,  0.81059947,  0.45435719,  0.87786124,\n",
      "         0.85489323],\n",
      "       [ 1.        ,  2.        ,  0.17889414,  0.86467841,  0.83601363,\n",
      "         0.88128697],\n",
      "       [ 1.        ,  2.        ,  0.63362592,  0.7387109 ,  0.72266262,\n",
      "         0.84143504],\n",
      "       [ 1.        ,  2.        ,  0.82339251,  0.66371461,  0.74899344,\n",
      "         0.79052901],\n",
      "       [ 1.        ,  2.        ,  0.28663354,  0.61434705,  0.47981563,\n",
      "         0.56416725],\n",
      "       [ 1.        ,  2.        ,  0.505739  ,  0.57872335,  0.78282873,\n",
      "         0.78402528],\n",
      "       [ 1.        ,  2.        ,  0.61464642,  0.65475051,  0.68843419,\n",
      "         0.61625255],\n",
      "       [ 1.        ,  2.        ,  0.76711662,  0.88771212,  0.78290131,\n",
      "         0.84427985],\n",
      "       [ 1.        ,  2.        ,  0.30616183,  0.43301889,  0.54163946,\n",
      "         0.40949543],\n",
      "       [ 1.        ,  2.        ,  0.57340037,  0.74670936,  0.76154857,\n",
      "         0.88006177],\n",
      "       [ 1.        ,  2.        ,  0.83871903,  0.86820532,  0.74821469,\n",
      "         0.83646296],\n",
      "       [ 1.        ,  2.        ,  0.61363348,  0.38270754,  0.41861256,\n",
      "         0.41885623],\n",
      "       [ 1.        ,  2.        ,  0.76205292,  0.77390917,  0.91975906,\n",
      "         0.56980132],\n",
      "       [ 1.        ,  2.        ,  0.84400038,  0.73393054,  0.72117666,\n",
      "         0.82794778],\n",
      "       [ 1.        ,  2.        ,  0.64224187,  0.81524747,  0.72976839,\n",
      "         0.7718768 ],\n",
      "       [ 1.        ,  2.        ,  0.64983151,  0.76526174,  0.50503924,\n",
      "         0.65854547],\n",
      "       [ 1.        ,  2.        ,  0.70354047,  0.81542264,  0.87899529,\n",
      "         0.85657871],\n",
      "       [ 1.        ,  2.        ,  0.79815923,  0.76492732,  0.80890552,\n",
      "         0.84180395],\n",
      "       [ 1.        ,  2.        ,  0.70064577,  0.45057288,  0.58787792,\n",
      "         0.64862889],\n",
      "       [ 1.        ,  3.        ,  0.14653516,  0.74078803,  0.64260064,\n",
      "         0.4473769 ],\n",
      "       [ 1.        ,  3.        ,  0.51397341,  0.8790342 ,  0.72253471,\n",
      "         0.76584307],\n",
      "       [ 1.        ,  3.        ,  0.01625526,  0.94472147,  0.88530338,\n",
      "         0.87271097],\n",
      "       [ 1.        ,  3.        ,  0.76604926,  0.62900512,  0.67555193,\n",
      "         0.60834733],\n",
      "       [ 1.        ,  3.        ,  0.02360684,  0.8935469 ,  0.92827879,\n",
      "         0.83883734],\n",
      "       [ 1.        ,  3.        ,  0.62873077,  0.61439796,  0.39293973,\n",
      "         0.4038071 ],\n",
      "       [ 1.        ,  3.        ,  0.72966694,  0.78263616,  0.82092695,\n",
      "         0.89748434],\n",
      "       [ 1.        ,  3.        ,  0.78834293,  0.74196614,  0.67559639,\n",
      "         0.63110649],\n",
      "       [ 1.        ,  3.        ,  0.71216857,  0.71233848,  0.67426521,\n",
      "         0.45123481],\n",
      "       [ 1.        ,  3.        ,  0.23842834,  0.39554025,  0.53794616,\n",
      "         0.11949072],\n",
      "       [ 2.        ,  1.        ,  0.86401198,  0.88002784,  0.75535546,\n",
      "         0.74192536],\n",
      "       [ 2.        ,  1.        ,  0.84164183,  0.71870037,  0.84156554,\n",
      "         0.76934767],\n",
      "       [ 2.        ,  1.        ,  0.41062908,  0.48635984,  0.77030938,\n",
      "         0.72697417],\n",
      "       [ 2.        ,  1.        ,  0.72145211,  0.88333971,  0.84552635,\n",
      "         0.86497488],\n",
      "       [ 2.        ,  1.        ,  0.80368372,  0.7626697 ,  0.73280026,\n",
      "         0.80644291],\n",
      "       [ 2.        ,  1.        ,  0.75777097,  0.79836705,  0.90496456,\n",
      "         0.72730026],\n",
      "       [ 2.        ,  1.        ,  0.6936739 ,  0.79084246,  0.76426107,\n",
      "         0.91705555],\n",
      "       [ 2.        ,  1.        ,  0.8630657 ,  0.66794867,  0.74938553,\n",
      "         0.84190215],\n",
      "       [ 2.        ,  1.        ,  0.89255082,  0.93436652,  0.9528749 ,\n",
      "         0.948972  ],\n",
      "       [ 2.        ,  1.        ,  0.81935534,  0.83960515,  0.887187  ,\n",
      "         0.85430616],\n",
      "       [ 2.        ,  1.        ,  0.28203615,  0.79829623,  0.79150076,\n",
      "         0.89767616],\n",
      "       [ 2.        ,  1.        ,  0.78611178,  0.76572785,  0.82143933,\n",
      "         0.811379  ],\n",
      "       [ 2.        ,  1.        ,  0.67279194,  0.2520806 ,  0.03039198,\n",
      "         0.05012787],\n",
      "       [ 2.        ,  1.        ,  0.30615574,  0.63667373,  0.85467737,\n",
      "         0.859992  ],\n",
      "       [ 2.        ,  2.        ,  0.9193166 ,  0.88602084,  0.95321427,\n",
      "         0.93185983],\n",
      "       [ 2.        ,  2.        ,  0.82135625,  0.82101189,  0.72910887,\n",
      "         0.52305447],\n",
      "       [ 2.        ,  2.        ,  0.80553347,  0.86659692,  0.85094717,\n",
      "         0.87062399],\n",
      "       [ 2.        ,  2.        ,  0.87296113,  0.73134316,  0.84509123,\n",
      "         0.82321727],\n",
      "       [ 2.        ,  2.        ,  0.92233407,  0.95382684,  0.85927774,\n",
      "         0.87269348],\n",
      "       [ 2.        ,  2.        ,  0.65866856,  0.78304086,  0.83461199,\n",
      "         0.81440937],\n",
      "       [ 2.        ,  2.        ,  0.89628442,  0.9491642 ,  0.95294029,\n",
      "         0.97591679],\n",
      "       [ 2.        ,  2.        ,  0.61501943,  0.78920785,  0.7395332 ,\n",
      "         0.77986089],\n",
      "       [ 2.        ,  2.        ,  0.73547399,  0.76637303,  0.73041977,\n",
      "         0.77905473],\n",
      "       [ 2.        ,  2.        ,  0.85230999,  0.95629975,  0.88622582,\n",
      "         0.85841149],\n",
      "       [ 2.        ,  2.        ,  0.79579848,  0.86143379,  0.89024457,\n",
      "         0.93120488],\n",
      "       [ 2.        ,  2.        ,  0.67597101,  0.63026709,  0.62900059,\n",
      "         0.626345  ],\n",
      "       [ 3.        ,  1.        ,  0.16770671,  0.4707088 ,  0.58912298,\n",
      "         0.54536834],\n",
      "       [ 3.        ,  1.        ,  0.82923483,  0.88301125,  0.87211674,\n",
      "         0.81528748],\n",
      "       [ 3.        ,  1.        ,  0.49400308,  0.49620901,  0.67419006,\n",
      "         0.32795743],\n",
      "       [ 3.        ,  1.        ,  0.95578099,  0.18368461,  0.35160967,\n",
      "         0.38764476],\n",
      "       [ 3.        ,  1.        ,  0.79366657,  0.40459951,  0.58361579,\n",
      "         0.89066379],\n",
      "       [ 3.        ,  1.        ,  0.54061286,  0.27173263,         nan,\n",
      "                nan],\n",
      "       [ 3.        ,  1.        ,  0.44479706,  0.86969685,  0.90764062,\n",
      "         0.84801253],\n",
      "       [ 3.        ,  2.        ,  0.55567794,  0.30420709,  0.64848859,\n",
      "         0.71296123],\n",
      "       [ 3.        ,  2.        ,  0.81098749,  0.85094109,  0.72257892,\n",
      "         0.54180043],\n",
      "       [ 3.        ,  2.        ,  0.86934199,  0.60988579,  0.57040309,\n",
      "         0.77470409],\n",
      "       [ 3.        ,  2.        ,  0.93665164,  0.91759754,  0.82843467,\n",
      "         0.96164316],\n",
      "       [ 3.        ,  2.        ,  0.5569891 ,  0.31890928,  0.51593566,\n",
      "         0.45720681],\n",
      "       [ 4.        ,  1.        ,         nan,  0.65054715,  0.88771831,\n",
      "         0.95373242],\n",
      "       [ 4.        ,  1.        , -0.01409716,  0.63166585,  0.82700859,\n",
      "         0.85614172],\n",
      "       [ 4.        ,  1.        ,         nan,         nan,  0.82928242,\n",
      "         0.88865042],\n",
      "       [ 4.        ,  1.        ,  0.85172501,  0.83164495,  0.15442155,\n",
      "                nan],\n",
      "       [ 4.        ,  1.        ,  0.02740361,  0.76514963,  0.22965741,\n",
      "                nan],\n",
      "       [ 4.        ,  1.        ,         nan,         nan,         nan,\n",
      "         0.76856758],\n",
      "       [ 4.        ,  1.        ,  0.27565978,         nan,         nan,\n",
      "                nan],\n",
      "       [ 4.        ,  1.        ,  0.76818021,  0.65231444,  0.79192103,\n",
      "         0.86787371],\n",
      "       [ 4.        ,  1.        ,  0.98063699,  0.97790155,  0.95004158,\n",
      "         0.98338654],\n",
      "       [ 4.        ,  1.        ,  0.46676899,  0.4458775 ,  0.67108738,\n",
      "         0.52397   ],\n",
      "       [ 4.        ,  1.        ,  0.93594372,  0.91003282,  0.94147418,\n",
      "         0.90780195],\n",
      "       [ 4.        ,  1.        ,         nan,         nan,  0.59417017,\n",
      "         0.62506846],\n",
      "       [ 4.        ,  1.        ,  0.67939309,  0.77479391,         nan,\n",
      "                nan],\n",
      "       [ 4.        ,  1.        ,  0.65927619,  0.73610247,  0.88874233,\n",
      "         0.86943807],\n",
      "       [ 4.        ,  1.        ,         nan,  0.15668559,  0.79039527,\n",
      "         0.75387366],\n",
      "       [ 4.        ,  1.        ,         nan,         nan,  0.1688544 ,\n",
      "         0.1837142 ],\n",
      "       [ 4.        ,  1.        ,         nan,         nan,  0.57293525,\n",
      "         0.83760498],\n",
      "       [ 4.        ,  1.        ,  0.630072  ,  0.65407529, -0.03377675,\n",
      "                nan],\n",
      "       [ 4.        ,  1.        ,  0.79762285,  0.89253105,  0.86158547,\n",
      "                nan],\n",
      "       [ 4.        ,  1.        ,         nan, -0.03859135,  0.8821672 ,\n",
      "         0.89077261],\n",
      "       [ 4.        ,  1.        ,         nan,         nan,  0.04368331,\n",
      "         0.61888033],\n",
      "       [ 4.        ,  1.        ,  0.87800127,  0.78974364,  0.77131304,\n",
      "         0.78883789],\n",
      "       [ 4.        ,  1.        ,         nan,         nan,  0.24392909,\n",
      "         0.12210921],\n",
      "       [ 4.        ,  2.        ,  0.91607151,  0.958563  ,  0.97362034,\n",
      "         0.93907365],\n",
      "       [ 4.        ,  2.        ,  0.52994986,  0.66606187,  0.6819882 ,\n",
      "         0.56108105],\n",
      "       [ 4.        ,  2.        ,  0.53325536,  0.30060272,  0.66870163,\n",
      "         0.65590734],\n",
      "       [ 4.        ,  2.        ,  0.87033465,  0.89536904,  0.89439345,\n",
      "         0.88164117],\n",
      "       [ 4.        ,  2.        ,  0.73203948,  0.70875782,  0.78090986,\n",
      "         0.75579056],\n",
      "       [ 4.        ,  2.        ,  0.73830549,  0.669499  ,  0.90969084,\n",
      "         0.83440343],\n",
      "       [ 4.        ,  2.        ,  0.82879504,  0.80375008,  0.92877995,\n",
      "         0.77916726],\n",
      "       [ 4.        ,  2.        ,  0.76171653,  0.66375417,         nan,\n",
      "                nan],\n",
      "       [ 4.        ,  2.        ,  0.54744698,  0.74863282,  0.86403783,\n",
      "                nan],\n",
      "       [ 4.        ,  2.        ,  0.29552973,  0.42565924,  0.47864772,\n",
      "                nan],\n",
      "       [ 4.        ,  2.        ,  0.72193328,  0.88918341,  0.9216872 ,\n",
      "         0.93643826],\n",
      "       [ 4.        ,  2.        ,  0.17245764,  0.86434985,  0.90831013,\n",
      "         0.89061512],\n",
      "       [ 5.        ,  1.        ,  0.82563879,  0.73130425,  0.72717013,\n",
      "         0.91384317],\n",
      "       [ 5.        ,  1.        ,  0.0835951 ,  0.14562248,  0.05539515,\n",
      "        -0.03335828],\n",
      "       [ 5.        ,  1.        ,         nan,         nan,  0.21111703,\n",
      "         0.81675576],\n",
      "       [ 5.        ,  1.        ,  0.81246893,  0.77581544,  0.8144205 ,\n",
      "         0.74703169],\n",
      "       [ 5.        ,  1.        ,  0.72366969,  0.74054833,  0.83272885,\n",
      "         0.76192023],\n",
      "       [ 5.        ,  1.        ,  0.83394082,  0.7917379 ,  0.85612076,\n",
      "         0.89054062],\n",
      "       [ 5.        ,  1.        ,  0.78663681,  0.84788794,  0.7653924 ,\n",
      "         0.9040964 ],\n",
      "       [ 5.        ,  1.        ,  0.86818083,  0.88998421,  0.86742076,\n",
      "         0.8392236 ],\n",
      "       [ 5.        ,  1.        ,  0.93980642,  0.89936388,  0.91186007,\n",
      "         0.91453173],\n",
      "       [ 5.        ,  1.        ,  0.2098398 ,  0.15723323,  0.17298995,\n",
      "         0.04034832],\n",
      "       [ 5.        ,  1.        ,         nan,  0.55997408,  0.5311604 ,\n",
      "         0.5537742 ],\n",
      "       [ 5.        ,  2.        ,  0.37632931, -0.08861464,  0.21992679,\n",
      "         0.1048645 ],\n",
      "       [ 5.        ,  2.        ,  0.86728476,  0.91565613,  0.95421503,\n",
      "         0.94194659],\n",
      "       [ 5.        ,  2.        ,  0.28511109,  0.04862592,  0.43348188,\n",
      "         0.66576442],\n",
      "       [ 5.        ,  2.        ,  0.09165606,  0.43612179,  0.7317456 ,\n",
      "        -0.03189058],\n",
      "       [ 5.        ,  2.        ,  0.86171119,  0.92246318,  0.81992769,\n",
      "         0.95783362],\n",
      "       [ 5.        ,  2.        ,  0.92389993,  0.87822323,  0.81676671,\n",
      "         0.46722713],\n",
      "       [ 5.        ,  2.        ,  0.79403349,  0.86122408,  0.67106892,\n",
      "         0.84090373],\n",
      "       [ 5.        ,  2.        ,  0.81730414,  0.88682835,  0.9148609 ,\n",
      "         0.85826025],\n",
      "       [ 5.        ,  2.        ,  0.94303654,  0.94682087,  0.93967416,\n",
      "         0.94417801],\n",
      "       [ 5.        ,  2.        ,  0.92289563,  0.9487576 ,  0.95721883,\n",
      "         0.93152457],\n",
      "       [ 5.        ,  2.        ,  0.28538074,  0.5541737 ,  0.71624827,\n",
      "         0.88287178],\n",
      "       [ 5.        ,  2.        ,  0.77452025,  0.94901078,  0.88742339,\n",
      "         0.84946112],\n",
      "       [ 5.        ,  2.        ,  0.22784662,  0.60857417,  0.69879033,\n",
      "         0.82584238],\n",
      "       [ 5.        ,  2.        ,  0.91240954,  0.93858174,  0.82484486,\n",
      "         0.81307402],\n",
      "       [ 5.        ,  2.        ,  0.95188024,  0.92622787,  0.84008645,\n",
      "         0.89533975],\n",
      "       [ 5.        ,  2.        ,  0.90627267,  0.88927083,  0.8132892 ,\n",
      "         0.94035185],\n",
      "       [ 5.        ,  2.        ,  0.83598882,  0.93007915,  0.88542217,\n",
      "         0.92954276],\n",
      "       [ 5.        ,  2.        ,         nan,  0.03785534,  0.53808429,\n",
      "         0.3568666 ],\n",
      "       [ 5.        ,  2.        ,  0.71580494,  0.72735586,  0.77259055,\n",
      "         0.77549682],\n",
      "       [ 5.        ,  2.        ,  0.77230199,  0.78425328,  0.52027433,\n",
      "         0.78134875],\n",
      "       [ 5.        ,  2.        ,  0.77985093,  0.78666234,  0.67037458,\n",
      "         0.78215904],\n",
      "       [ 5.        ,  2.        ,  0.58964091,  0.86530629,  0.64845314,\n",
      "         0.73797608],\n",
      "       [ 5.        ,  2.        ,  0.89437584,  0.85906716,  0.79397982,\n",
      "         0.86387219],\n",
      "       [ 5.        ,  2.        ,  0.90496695,  0.73484163,  0.87985345,\n",
      "         0.90939678],\n",
      "       [ 5.        ,  2.        ,  0.79637484,  0.76433706,  0.86387273,\n",
      "         0.87040198],\n",
      "       [ 5.        ,  2.        ,  0.9292465 ,  0.79348626,  0.902165  ,\n",
      "         0.92285131],\n",
      "       [ 5.        ,  2.        ,  0.19238166,  0.3948006 ,  0.83981631,\n",
      "         0.82114283],\n",
      "       [ 5.        ,  2.        ,  0.71879792,  0.93212456,  0.79359963,\n",
      "         0.74208048],\n",
      "       [ 5.        ,  2.        ,  0.75803152,  0.79796349,  0.23098122,\n",
      "                nan],\n",
      "       [ 5.        ,  2.        ,  0.90971284,  0.94833668,  0.83277549,\n",
      "         0.50367468],\n",
      "       [ 5.        ,  2.        ,  0.95381618,  0.95090682,  0.87825257,\n",
      "                nan],\n",
      "       [ 5.        ,  2.        ,  0.80202539,  0.71857689,  0.27680124,\n",
      "                nan],\n",
      "       [ 5.        ,  2.        ,  0.76127921,  0.74789339,  0.67416704,\n",
      "         0.28404854],\n",
      "       [ 5.        ,  2.        ,  0.90625692,  0.91434672,  0.57147327,\n",
      "                nan]])], 'all_shuff': [array([[ 1.        ,  1.        ,         nan,         nan,         nan,\n",
      "                nan],\n",
      "       [ 1.        ,  1.        ,         nan,         nan,         nan,\n",
      "                nan],\n",
      "       [ 1.        ,  1.        ,         nan,         nan,         nan,\n",
      "                nan],\n",
      "       ...,\n",
      "       [ 5.        ,  3.        , -0.03258902, -0.0329059 , -0.06661859,\n",
      "                nan],\n",
      "       [ 5.        ,  3.        , -0.08657861, -0.1067427 , -0.13698432,\n",
      "        -0.17395567],\n",
      "       [ 5.        ,  3.        ,         nan, -0.0380029 , -0.11820065,\n",
      "                nan]]), array([[ 1.00000000e+00,  1.00000000e+00, -5.70028648e-02,\n",
      "        -1.05277932e-01, -4.25770080e-02,  3.95259794e-01],\n",
      "       [ 1.00000000e+00,  1.00000000e+00, -5.70028648e-02,\n",
      "        -2.25529844e-04, -4.80672977e-02,  1.58367875e-02],\n",
      "       [ 1.00000000e+00,  1.00000000e+00, -1.10919770e-01,\n",
      "         1.13216464e-01, -1.96726041e-01,  5.31063483e-02],\n",
      "       ...,\n",
      "       [ 5.00000000e+00,  2.00000000e+00, -1.18207205e-01,\n",
      "        -1.09388939e-01,  3.54368195e-02, -1.39706234e-02],\n",
      "       [ 5.00000000e+00,  2.00000000e+00, -1.02484700e-01,\n",
      "         2.49110236e-02, -8.00224473e-02, -6.38699189e-02],\n",
      "       [ 5.00000000e+00,  2.00000000e+00, -7.92593394e-02,\n",
      "        -1.50844825e-01, -8.00891913e-02, -4.56069951e-02]])]}\n"
     ]
    }
   ],
   "source": [
    "#presentation of the data\n",
    "data=mat73.loadmat('hbp-d000035_FourRoomPC_pub/Data/connectivity_shuffle.mat')\n",
    "print(data)"
   ]
  },
  {
   "cell_type": "code",
   "execution_count": 4,
   "id": "e9f46ab0",
   "metadata": {},
   "outputs": [
    {
     "data": {
      "text/plain": [
       "dict_keys(['all_cname', 'all_obs', 'all_shuff'])"
      ]
     },
     "execution_count": 4,
     "metadata": {},
     "output_type": "execute_result"
    }
   ],
   "source": [
    "data.keys()"
   ]
  },
  {
   "cell_type": "code",
   "execution_count": 6,
   "id": "70994551",
   "metadata": {
    "scrolled": true
   },
   "outputs": [
    {
     "name": "stdout",
     "output_type": "stream",
     "text": [
      "{'__header__': b'MATLAB 5.0 MAT-file, Platform: PCWIN64, Created on: Fri Mar 13 09:14:39 2020', '__version__': '1.0', '__globals__': [], 'epoly': array([[  50.87063828,  -95.68979597],\n",
      "       [ 128.87063828,  -95.68979597],\n",
      "       [ 128.87063828,  -17.68979597],\n",
      "       [  50.87063828,  -17.68979597],\n",
      "       [  50.87063828,  -95.68979597],\n",
      "       [ 128.87063828,  -95.68979597],\n",
      "       [ 206.87063828,  -95.68979597],\n",
      "       [ 206.87063828,  -17.68979597],\n",
      "       [ 128.87063828,  -17.68979597],\n",
      "       [ 128.87063828,  -95.68979597],\n",
      "       [ 128.87063828, -173.68979597],\n",
      "       [ 206.87063828, -173.68979597],\n",
      "       [ 206.87063828,  -95.68979597],\n",
      "       [ 128.87063828,  -95.68979597],\n",
      "       [ 128.87063828, -173.68979597],\n",
      "       [  50.87063828, -173.68979597],\n",
      "       [ 128.87063828, -173.68979597],\n",
      "       [ 128.87063828,  -95.68979597],\n",
      "       [  50.87063828,  -95.68979597],\n",
      "       [  50.87063828, -173.68979597],\n",
      "       [  59.87063828,  -86.68979597],\n",
      "       [ 119.87063828,  -86.68979597],\n",
      "       [ 119.87063828,  -26.68979597],\n",
      "       [  59.87063828,  -26.68979597],\n",
      "       [  59.87063828,  -86.68979597],\n",
      "       [ 137.87063828,  -86.68979597],\n",
      "       [ 197.87063828,  -86.68979597],\n",
      "       [ 197.87063828,  -26.68979597],\n",
      "       [ 137.87063828,  -26.68979597],\n",
      "       [ 137.87063828,  -86.68979597],\n",
      "       [ 137.87063828, -164.68979597],\n",
      "       [ 197.87063828, -164.68979597],\n",
      "       [ 197.87063828, -104.68979597],\n",
      "       [ 137.87063828, -104.68979597],\n",
      "       [ 137.87063828, -164.68979597],\n",
      "       [  59.87063828, -164.68979597],\n",
      "       [ 119.87063828, -164.68979597],\n",
      "       [ 119.87063828, -104.68979597],\n",
      "       [  59.87063828, -104.68979597],\n",
      "       [  59.87063828, -164.68979597]]), 'epoly_map': array([[ 4. , 43. ],\n",
      "       [43. , 43. ],\n",
      "       [43. , 82. ],\n",
      "       [ 4. , 82. ],\n",
      "       [ 4. , 43. ],\n",
      "       [43. , 43. ],\n",
      "       [82. , 43. ],\n",
      "       [82. , 82. ],\n",
      "       [43. , 82. ],\n",
      "       [43. , 43. ],\n",
      "       [43. ,  4. ],\n",
      "       [82. ,  4. ],\n",
      "       [82. , 43. ],\n",
      "       [43. , 43. ],\n",
      "       [43. ,  4. ],\n",
      "       [ 4. ,  4. ],\n",
      "       [43. ,  4. ],\n",
      "       [43. , 43. ],\n",
      "       [ 4. , 43. ],\n",
      "       [ 4. ,  4. ],\n",
      "       [ 8.5, 47.5],\n",
      "       [38.5, 47.5],\n",
      "       [38.5, 77.5],\n",
      "       [ 8.5, 77.5],\n",
      "       [ 8.5, 47.5],\n",
      "       [47.5, 47.5],\n",
      "       [77.5, 47.5],\n",
      "       [77.5, 77.5],\n",
      "       [47.5, 77.5],\n",
      "       [47.5, 47.5],\n",
      "       [47.5,  8.5],\n",
      "       [77.5,  8.5],\n",
      "       [77.5, 38.5],\n",
      "       [47.5, 38.5],\n",
      "       [47.5,  8.5],\n",
      "       [ 8.5,  8.5],\n",
      "       [38.5,  8.5],\n",
      "       [38.5, 38.5],\n",
      "       [ 8.5, 38.5],\n",
      "       [ 8.5,  8.5]])}\n"
     ]
    }
   ],
   "source": [
    "data=scipy.io.loadmat('hbp-d000035_FourRoomPC_pub/Data/epoly.mat')\n",
    "print(data)"
   ]
  },
  {
   "cell_type": "code",
   "execution_count": 7,
   "id": "84a62745",
   "metadata": {},
   "outputs": [
    {
     "data": {
      "text/plain": [
       "dict_keys(['__header__', '__version__', '__globals__', 'epoly', 'epoly_map'])"
      ]
     },
     "execution_count": 7,
     "metadata": {},
     "output_type": "execute_result"
    }
   ],
   "source": [
    "data.keys()"
   ]
  },
  {
   "cell_type": "code",
   "execution_count": 10,
   "id": "401415b1",
   "metadata": {
    "scrolled": true
   },
   "outputs": [
    {
     "name": "stdout",
     "output_type": "stream",
     "text": [
      "{'all_obs': [array([[1.        , 1.        , 0.69565032, ..., 0.48539972, 0.3021606 ,\n",
      "        0.69710994],\n",
      "       [1.        , 1.        , 0.37097675, ..., 0.69267035, 0.61318961,\n",
      "        0.08161364],\n",
      "       [1.        , 1.        , 0.31640327, ..., 0.84653091, 0.77777674,\n",
      "        0.88952665],\n",
      "       ...,\n",
      "       [5.        , 3.        , 0.81218828, ..., 0.94125509, 0.96695347,\n",
      "        0.87787079],\n",
      "       [5.        , 3.        , 0.5606063 , ..., 0.37277736, 0.38401114,\n",
      "        0.52776064],\n",
      "       [5.        , 3.        , 0.23050558, ..., 0.52856585, 0.61975208,\n",
      "        0.19551353]]), array([[1.        , 1.        , 0.86519965, ..., 0.70072366, 0.90142709,\n",
      "        0.88637492],\n",
      "       [1.        , 1.        , 0.65573445, ..., 0.69639431, 0.50935183,\n",
      "        0.73575019],\n",
      "       [1.        , 1.        , 0.05416143, ..., 0.21397043, 0.03240462,\n",
      "        0.45933914],\n",
      "       ...,\n",
      "       [5.        , 2.        , 0.79949804, ..., 0.68916974, 0.35370321,\n",
      "               nan],\n",
      "       [5.        , 2.        , 0.76500653, ..., 0.46472305, 0.70683985,\n",
      "               nan],\n",
      "       [5.        , 2.        , 0.51942658, ..., 0.11204945,        nan,\n",
      "               nan]])], 'all_shuff': [array([[ 1.        ,  1.        ,         nan, ...,         nan,\n",
      "                nan,         nan],\n",
      "       [ 1.        ,  1.        ,         nan, ...,         nan,\n",
      "                nan,         nan],\n",
      "       [ 1.        ,  1.        ,         nan, ...,         nan,\n",
      "                nan,         nan],\n",
      "       ...,\n",
      "       [ 5.        ,  3.        , -0.09515498, ..., -0.01352721,\n",
      "        -0.28105092, -0.20349055],\n",
      "       [ 5.        ,  3.        ,         nan, ..., -0.15041844,\n",
      "         0.13152132,  0.41362739],\n",
      "       [ 5.        ,  3.        ,         nan, ...,  0.63064906,\n",
      "        -0.21169191, -0.17846924]]), array([[ 1.00000000e+00,  1.00000000e+00, -3.66118258e-01, ...,\n",
      "        -2.70914398e-01,  2.02872216e-01,  2.06677734e-01],\n",
      "       [ 1.00000000e+00,  1.00000000e+00, -3.19047932e-03, ...,\n",
      "         4.18267066e-01, -1.30136835e-01, -4.25718579e-02],\n",
      "       [ 1.00000000e+00,  1.00000000e+00,  1.64893750e-02, ...,\n",
      "        -1.25624485e-01, -1.46427934e-01,  3.55923946e-01],\n",
      "       ...,\n",
      "       [ 5.00000000e+00,  2.00000000e+00, -1.08661633e-01, ...,\n",
      "        -2.21107969e-01, -1.59130974e-01, -8.47452604e-02],\n",
      "       [ 5.00000000e+00,  2.00000000e+00, -3.86217496e-02, ...,\n",
      "        -1.57261897e-01, -1.98454075e-01,  8.55713676e-02],\n",
      "       [ 5.00000000e+00,  2.00000000e+00, -1.24424828e-01, ...,\n",
      "        -8.95682290e-02, -6.24682418e-02,  1.61354972e-01]])]}\n"
     ]
    }
   ],
   "source": [
    "data=mat73.loadmat('hbp-d000035_FourRoomPC_pub/Data/foraging_shuffle.mat')\n",
    "print(data)"
   ]
  },
  {
   "cell_type": "code",
   "execution_count": 11,
   "id": "540e80ec",
   "metadata": {},
   "outputs": [
    {
     "data": {
      "text/plain": [
       "dict_keys(['all_obs', 'all_shuff'])"
      ]
     },
     "execution_count": 11,
     "metadata": {},
     "output_type": "execute_result"
    }
   ],
   "source": [
    "data.keys()"
   ]
  },
  {
   "cell_type": "code",
   "execution_count": 7,
   "id": "a6209370",
   "metadata": {},
   "outputs": [
    {
     "name": "stderr",
     "output_type": "stream",
     "text": [
      "ERROR:root:ERROR: MATLAB type not supported: table, (uint32)\n"
     ]
    },
    {
     "name": "stdout",
     "output_type": "stream",
     "text": [
      "{'bdata_big': None}\n"
     ]
    }
   ],
   "source": [
    "data=mat73.loadmat('hbp-d000035_FourRoomPC_pub/Data/Four_Room_bdata_big.mat')\n",
    "print(data)"
   ]
  },
  {
   "cell_type": "code",
   "execution_count": 16,
   "id": "e3198102",
   "metadata": {},
   "outputs": [
    {
     "name": "stderr",
     "output_type": "stream",
     "text": [
      "ERROR:root:ERROR: MATLAB type not supported: table, (uint32)\n"
     ]
    },
    {
     "name": "stdout",
     "output_type": "stream",
     "text": [
      "{'sdata_big': None}\n"
     ]
    }
   ],
   "source": [
    "data=mat73.loadmat('hbp-d000035_FourRoomPC_pub/Data/Four_Room_sdata_big.mat')\n",
    "print(data)"
   ]
  }
 ],
 "metadata": {
  "kernelspec": {
   "display_name": "Python 3 (ipykernel)",
   "language": "python",
   "name": "python3"
  },
  "language_info": {
   "codemirror_mode": {
    "name": "ipython",
    "version": 3
   },
   "file_extension": ".py",
   "mimetype": "text/x-python",
   "name": "python",
   "nbconvert_exporter": "python",
   "pygments_lexer": "ipython3",
   "version": "3.8.10"
  }
 },
 "nbformat": 4,
 "nbformat_minor": 5
}
