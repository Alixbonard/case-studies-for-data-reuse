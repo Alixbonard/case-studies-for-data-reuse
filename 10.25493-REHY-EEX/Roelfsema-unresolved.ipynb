{
 "cells": [
  {
   "cell_type": "markdown",
   "id": "c64ebca2",
   "metadata": {},
   "source": [
    "# Study of data reuse: Multiunit recordings from visual areas in monkeys performing a detection task (v1)"
   ]
  },
  {
   "cell_type": "markdown",
   "id": "f23b837b",
   "metadata": {},
   "source": [
    "In this notebook we will look more closely at the EBRAINS dataset \"[Multiunit recordings from visual areas in monkeys performing a detection task (v1))](https://search.kg.ebrains.eu/?category=Dataset&modality[0]=electrophysiology&dataAccessibility[0]=free%20access&species[0]=Macaca%20mulatta#26e3a8c8-ac21-44cb-bf0d-ead2dcd1c4bb)\", contributed by Pieter R. Roelfsema from the department of vision and cognition in Amsterdam, Netherlands.\n",
    "\n",
    "As we can see from the dataset description,\n",
    "\n",
    "<i>This dataset contains electrophysiological data (Multi-unit activity) from areas V1, V4 and dlPFC of macaque monkey during either a Contrast (visual) or Phosphene (electrical stimulation) detection task. The data is split in two parts (Visual Stimulation and Electrical Stimulation), including scripts to generate images used in the associated article.</i>\n",
    "More information is available in the [Data Descriptor](https://search.kg.ebrains.eu/?category=Dataset&modality[0]=electrophysiology&dataAccessibility[0]=free%20access&species[0]=Macaca%20mulatta#26e3a8c8-ac21-44cb-bf0d-ead2dcd1c4bb).\n",
    "\n",
    "This dataset forms part of the results reported in van Vugt, B., Dagnino, B., Vartak, D., Safaai, H., Panzeri, S., Dehaene, S., & Roelfsema, P. R. (2018). The threshold for conscious report: Signal loss and response bias in visual and frontal cortex. *Science* (New York, N.Y.), **360(6388)**, 537–542.https://doi.org/10.1126/science.aar7186\n",
    "\n",
    "In this notebook we will demonstrate how to access the data files and the metadata from this study, and how these data can be analysed and visualised, with the goal of reproducing some of the figures from the article. \n"
   ]
  },
  {
   "cell_type": "markdown",
   "id": "a8ec085d",
   "metadata": {},
   "source": [
    "### Notes: \n",
    "\n",
    "Didn't have enough space to download the whole dataset (more than 70 gb) bt seems rather easy to use once downloaded"
   ]
  },
  {
   "cell_type": "code",
   "execution_count": null,
   "id": "c842d400",
   "metadata": {},
   "outputs": [],
   "source": []
  }
 ],
 "metadata": {
  "kernelspec": {
   "display_name": "Python 3 (ipykernel)",
   "language": "python",
   "name": "python3"
  },
  "language_info": {
   "codemirror_mode": {
    "name": "ipython",
    "version": 3
   },
   "file_extension": ".py",
   "mimetype": "text/x-python",
   "name": "python",
   "nbconvert_exporter": "python",
   "pygments_lexer": "ipython3",
   "version": "3.8.10"
  }
 },
 "nbformat": 4,
 "nbformat_minor": 5
}
